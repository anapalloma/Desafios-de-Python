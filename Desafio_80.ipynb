{
  "nbformat": 4,
  "nbformat_minor": 0,
  "metadata": {
    "colab": {
      "provenance": []
    },
    "kernelspec": {
      "name": "python3",
      "display_name": "Python 3"
    },
    "language_info": {
      "name": "python"
    }
  },
  "cells": [
    {
      "cell_type": "markdown",
      "source": [
        "**Desafio 80** - Crie um programa onde o usuário possa digitar cinco valores numéricos e cadastre-os em uma lista, já na posição correta de inserção (sem usar o sort()). No final, mostre a lista ordenada na tela."
      ],
      "metadata": {
        "id": "ZF_Ly_wtg47p"
      }
    },
    {
      "cell_type": "code",
      "execution_count": 7,
      "metadata": {
        "colab": {
          "base_uri": "https://localhost:8080/"
        },
        "id": "_jqn3k1Egvl7",
        "outputId": "b31ea759-99a9-430a-980f-7cfcb50a7666"
      },
      "outputs": [
        {
          "output_type": "stream",
          "name": "stdout",
          "text": [
            "Digite um valor: 5\n",
            "Adicionado ao final da lista...\n",
            "Digite um valor: 89\n",
            "Adicionado ao final da lista...\n",
            "Digite um valor: 2\n",
            "Adicionado na posição 0 da lista...\n",
            "Digite um valor: 3\n",
            "Adicionado na posição 1 da lista...\n",
            "Digite um valor: 4\n",
            "Adicionado na posição 2 da lista...\n",
            "Os valores digitados em ordem crescente foram [2, 3, 4, 5, 89].\n"
          ]
        }
      ],
      "source": [
        "lista = []\n",
        "\n",
        "for c in range(0, 5):\n",
        "  n = int(input('Digite um valor: '))\n",
        "  if (c == 0) or (n > lista[-1]): # P/ pegar o último elemento da lista: lista[-1]\n",
        "    lista.append(n)\n",
        "    print(f'Adicionado ao final da lista...')\n",
        "  else:\n",
        "    for i in range(0, len(lista)):\n",
        "      if n < lista[i]:\n",
        "        lista.insert(i, n)\n",
        "        print(f'Adicionado na posição {i} da lista...')\n",
        "        break\n",
        "print(f'Os valores digitados em ordem crescente foram {lista}.')\n"
      ]
    }
  ]
}