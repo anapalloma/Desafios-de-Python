{
  "nbformat": 4,
  "nbformat_minor": 0,
  "metadata": {
    "colab": {
      "provenance": []
    },
    "kernelspec": {
      "name": "python3",
      "display_name": "Python 3"
    },
    "language_info": {
      "name": "python"
    }
  },
  "cells": [
    {
      "cell_type": "markdown",
      "source": [
        "**Desafio 89** - Crie um programa que leia nome e duas notas de vários alunos e guarde tudo em uma lista composta. No final, mostre um boletim contendo a média de cada um e permita que o usuário possa mostrar as notas de cada aluno individualmente."
      ],
      "metadata": {
        "id": "lInHP9OOE83n"
      }
    },
    {
      "cell_type": "code",
      "execution_count": 9,
      "metadata": {
        "colab": {
          "base_uri": "https://localhost:8080/"
        },
        "id": "QK2XGG3kExXi",
        "outputId": "79d3e4c0-e70d-48aa-f6d6-9bdebf8d8acd"
      },
      "outputs": [
        {
          "output_type": "stream",
          "name": "stdout",
          "text": [
            "Nome: Maria\n",
            "Nota 1: 8.5\n",
            "Nota 2: 6.5\n",
            "Quer continuar? [S/N] s\n",
            "Nome: Claudio\n",
            "Nota 1: 3.5\n",
            "Nota 2: 2\n",
            "Quer continuar? [S/N] s\n",
            "Nome: Ana\n",
            "Nota 1: 10\n",
            "Nota 2: 10\n",
            "Quer continuar? [S/N] n\n",
            "\n",
            "-=--=--=--=--=--=--=--=--=--=--=--=--=--=--=--=--=--=--=--=--=--=--=--=--=--=--=--=--=--=-\n",
            "No. NOME         MÉDIA\n",
            "-=--=--=--=--=--=--=--=--=--=--=--=--=--=--=--=--=--=--=--=--=--=--=--=--=--=--=--=--=--=-\n",
            "0   Maria          7.5\n",
            "1   Claudio       2.75\n",
            "2   Ana           10.0\n",
            "Mostrar notas de qual aluno? (999 interrompe): 5\n",
            "Aluno não cadastrado!\n",
            "------------------------------\n",
            "Mostrar notas de qual aluno? (999 interrompe): 0\n",
            "Notas de Maria são [8.5, 6.5]\n",
            "------------------------------\n",
            "Mostrar notas de qual aluno? (999 interrompe): 2\n",
            "Notas de Ana são [10.0, 10.0]\n",
            "------------------------------\n",
            "Mostrar notas de qual aluno? (999 interrompe): 999\n",
            "FINALIZANDO...\n",
            "<<< VOLTE SEMPRE >>>\n"
          ]
        }
      ],
      "source": [
        "lista = [],\n",
        "dados = []\n",
        "\n",
        "while True:\n",
        "  dados.append(str(input('Nome: ')))\n",
        "  dados.append(float(input('Nota 1: ')))\n",
        "  dados.append(float(input('Nota 2: ')))\n",
        "  lista.append(dados[:])\n",
        "  dados.clear()\n",
        "  opcao = ' '\n",
        "  while opcao not in 'SN':\n",
        "    opcao = str(input('Quer continuar? [S/N] ')).strip().upper()[0]\n",
        "  if opcao in 'N':\n",
        "    break\n",
        "\n",
        "print()\n",
        "print('-=-'*30)\n",
        "print(f\"{'No.':<4}{'NOME':<10}{'MÉDIA':>8}\")\n",
        "print('-=-'*30)\n",
        "\n",
        "for i in range(0, len(lista)):\n",
        "  print(f'{i:<4}', end=\"\")\n",
        "  print(f'{lista[i][0]:<10}', end='')\n",
        "  media = (lista[i][1] + lista[i][2])/2\n",
        "  print(f'{media:>8}', end='')\n",
        "  print()\n",
        "\n",
        "while True:\n",
        "  notas = int(input(f'Mostrar notas de qual aluno? (999 interrompe): '))\n",
        "  if notas > len(lista) and notas != 999 or notas < 0:\n",
        "      print('Aluno não cadastrado!')\n",
        "      print('-'*30)\n",
        "  elif notas <= len(lista):\n",
        "    print(f'Notas de {lista[notas][0]} são [{lista[notas][1]}, {lista[notas][2]}]')\n",
        "    print('-'*30)\n",
        "  elif notas == 999:\n",
        "      print('FINALIZANDO...')\n",
        "      print('<<< VOLTE SEMPRE >>>')\n",
        "      break\n"
      ]
    }
  ]
}