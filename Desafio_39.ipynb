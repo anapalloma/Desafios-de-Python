{
  "nbformat": 4,
  "nbformat_minor": 0,
  "metadata": {
    "colab": {
      "provenance": []
    },
    "kernelspec": {
      "name": "python3",
      "display_name": "Python 3"
    },
    "language_info": {
      "name": "python"
    }
  },
  "cells": [
    {
      "cell_type": "markdown",
      "source": [
        "**Desafio 39** - Faça um programa que leia o ano de nascimento de um jovem e informe, de acordo com sua idade, se ele **ainda vai se alistar** ao serviço militar, se é a **hora de se alistar** ou se já **passou do tempo** do alistamento. Seu programa também deverá mostrar o tempo que falta ou que passou do prazo."
      ],
      "metadata": {
        "id": "AWOM5zEeawdN"
      }
    },
    {
      "cell_type": "code",
      "execution_count": 13,
      "metadata": {
        "colab": {
          "base_uri": "https://localhost:8080/"
        },
        "id": "hFt2Oeedatnd",
        "outputId": "f6111b09-8fdc-4c68-dc1f-56edc6775bd9"
      },
      "outputs": [
        {
          "output_type": "stream",
          "name": "stdout",
          "text": [
            "Ano de nascimento: 1993\n",
            "Quem nasceu em 1993 tem 30 anos em 2023.\n",
            "\n",
            "Você já deveria ter se alistado há 12 anos.\n",
            "Seu alistamento foi em 2011.\n"
          ]
        }
      ],
      "source": [
        "from traitlets.traitlets import NoDefaultSpecified\n",
        "from datetime import date\n",
        "\n",
        "nasc = int(input('Ano de nascimento: '))\n",
        "\n",
        "ano_atual = date.today().year\n",
        "\n",
        "idade = (ano_atual - nasc)\n",
        "\n",
        "print(f'Quem nasceu em {nasc} tem {idade} anos em {ano_atual}.')\n",
        "\n",
        "if(idade < 18):\n",
        "  falta = (18 - idade)\n",
        "  print(f'\\nAinda faltam {falta} anos para o alistamento.')\n",
        "  print(f'Seu alistamento será em {ano_atual + falta}.')\n",
        "elif(idade == 18):\n",
        "  print('\\nVocê tem que se alistar IMEDIATAMENTE!')\n",
        "else:\n",
        "  excedeu = (idade -18)\n",
        "  print(f'\\nVocê já deveria ter se alistado há {excedeu} anos.')\n",
        "  print(f'Seu alistamento foi em {ano_atual - excedeu}.')\n"
      ]
    }
  ]
}