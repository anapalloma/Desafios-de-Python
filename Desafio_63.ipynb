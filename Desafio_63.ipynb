{
  "nbformat": 4,
  "nbformat_minor": 0,
  "metadata": {
    "colab": {
      "provenance": []
    },
    "kernelspec": {
      "name": "python3",
      "display_name": "Python 3"
    },
    "language_info": {
      "name": "python"
    }
  },
  "cells": [
    {
      "cell_type": "markdown",
      "source": [
        "**Desafio 63** - Escreva um programa que leia um número n inteiro qualquer e mostre na tela os n primeiros elementos de uma sequência de Fibonacci."
      ],
      "metadata": {
        "id": "Lz4aCpr8EOlP"
      }
    },
    {
      "cell_type": "code",
      "execution_count": 22,
      "metadata": {
        "id": "kzC6GI0zD_5v",
        "colab": {
          "base_uri": "https://localhost:8080/"
        },
        "outputId": "4a6f425a-9fab-4cda-bab4-4843263e2935"
      },
      "outputs": [
        {
          "output_type": "stream",
          "name": "stdout",
          "text": [
            "Quantos termos você quer mostrar? 10\n",
            "[0, 1, 1, 2, 3, 5, 8, 13, 21, 34]\n",
            "FIM\n"
          ]
        }
      ],
      "source": [
        "termos = int(input('Quantos termos você quer mostrar? '))\n",
        "\n",
        "lista = [0, 1]\n",
        "\n",
        "count = 2\n",
        "\n",
        "while (termos > count):\n",
        "  lista.append(lista[-1] + lista[-2]) # Obtém o último e o penúltimo elemento de uma lista em Python\n",
        "  count += 1\n",
        "print(lista)\n",
        "print('FIM')"
      ]
    }
  ]
}