{
  "nbformat": 4,
  "nbformat_minor": 0,
  "metadata": {
    "colab": {
      "provenance": []
    },
    "kernelspec": {
      "name": "python3",
      "display_name": "Python 3"
    },
    "language_info": {
      "name": "python"
    }
  },
  "cells": [
    {
      "cell_type": "markdown",
      "source": [
        "**Desafio 16** - Crie um programa que leia um número real qualquer pelo teclado e mostre na tela a sua porção inteira."
      ],
      "metadata": {
        "id": "BKGzubAuFR_b"
      }
    },
    {
      "cell_type": "code",
      "execution_count": 4,
      "metadata": {
        "colab": {
          "base_uri": "https://localhost:8080/"
        },
        "id": "nyxjhq4qFOOc",
        "outputId": "40b54a05-b49f-483b-b455-c79bbfa94c62"
      },
      "outputs": [
        {
          "output_type": "stream",
          "name": "stdout",
          "text": [
            "Digite um valor: 16.8\n",
            "O valor digitado foi 16.8 e a sua porção inteira é 16.\n"
          ]
        }
      ],
      "source": [
        "from math import trunc\n",
        "\n",
        "num = float(input('Digite um valor: '))\n",
        "print(f'O valor digitado foi {num} e a sua porção inteira é {trunc(num)}.')\n"
      ]
    }
  ]
}