{
  "nbformat": 4,
  "nbformat_minor": 0,
  "metadata": {
    "colab": {
      "provenance": []
    },
    "kernelspec": {
      "name": "python3",
      "display_name": "Python 3"
    },
    "language_info": {
      "name": "python"
    }
  },
  "cells": [
    {
      "cell_type": "markdown",
      "source": [
        "**Desafio 52** - Faça um programa que leia um número inteiro e diga se ele é ou não um número primo."
      ],
      "metadata": {
        "id": "Mp4TTyi8XCwD"
      }
    },
    {
      "cell_type": "code",
      "execution_count": 5,
      "metadata": {
        "colab": {
          "base_uri": "https://localhost:8080/"
        },
        "id": "6zIEvErtW8AR",
        "outputId": "bf433ea3-a198-4b8a-b490-7ef1645481b4"
      },
      "outputs": [
        {
          "output_type": "stream",
          "name": "stdout",
          "text": [
            "Digite um número: 7\n",
            "\n",
            "O número 7 foi divisível 2 vezes. Por isso ele é primo.\n"
          ]
        }
      ],
      "source": [
        "total = 0\n",
        "\n",
        "num = int(input('Digite um número: '))\n",
        "\n",
        "for i in range(1, num+1):\n",
        "  if num % i == 0:\n",
        "    total += 1\n",
        "\n",
        "print(f'\\nO número {num} foi divisível {total} vezes.', end=' ')\n",
        "if(total == 2):\n",
        "  print('Por isso ele é primo.')\n",
        "else:\n",
        "  print('Por isso ele não é primo.')\n"
      ]
    }
  ]
}