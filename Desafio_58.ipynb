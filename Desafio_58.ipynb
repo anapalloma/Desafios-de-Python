{
  "nbformat": 4,
  "nbformat_minor": 0,
  "metadata": {
    "colab": {
      "provenance": []
    },
    "kernelspec": {
      "name": "python3",
      "display_name": "Python 3"
    },
    "language_info": {
      "name": "python"
    }
  },
  "cells": [
    {
      "cell_type": "markdown",
      "source": [
        "**Desafio 58** - Melhore o jogo do **Desafio 28** onde o computador vai \"pensar\" em um número entre 0 e 10. Só que agora o jogador vai tentar advinhar até acertar, mostrando no final quantos palpites foram necessários para vencer."
      ],
      "metadata": {
        "id": "0N83BSdgwpuW"
      }
    },
    {
      "cell_type": "code",
      "execution_count": 4,
      "metadata": {
        "colab": {
          "base_uri": "https://localhost:8080/"
        },
        "id": "TCBwM44iwncU",
        "outputId": "a9ffcd32-1f89-49bd-ff8c-6d03d2e3cf5f"
      },
      "outputs": [
        {
          "output_type": "stream",
          "name": "stdout",
          "text": [
            "Sou seu computador...\n",
            "Acabei de pensar em um número entre 0 e 10.\n",
            "Será que você advinhar qual foi?\n",
            "\n",
            "Qual é seu palpite? 3\n",
            "Mais... Tente mais uma vez.\n",
            "Qual é o seu palpite? 4\n",
            "Mais... Tente mais uma vez.\n",
            "Qual é o seu palpite? 5\n",
            "Mais... Tente mais uma vez.\n",
            "Qual é o seu palpite? 9\n",
            "\n",
            "Acertou com 4 tentativas. Parabéns!\n"
          ]
        }
      ],
      "source": [
        "from random import randint\n",
        "\n",
        "numero = randint(0, 10)\n",
        "\n",
        "tentativas = 1\n",
        "\n",
        "print('Sou seu computador...')\n",
        "print('Acabei de pensar em um número entre 0 e 10.')\n",
        "print('Será que você advinhar qual foi?')\n",
        "\n",
        "palpite = int(input('\\nQual é seu palpite? '))\n",
        "\n",
        "while palpite != numero:\n",
        "  print('Mais... Tente mais uma vez.')\n",
        "  palpite = int(input('Qual é o seu palpite? '))\n",
        "  tentativas += 1\n",
        "\n",
        "print(f'\\nAcertou com {tentativas} tentativas. Parabéns!')\n"
      ]
    }
  ]
}