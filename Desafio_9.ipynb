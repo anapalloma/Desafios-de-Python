{
  "nbformat": 4,
  "nbformat_minor": 0,
  "metadata": {
    "colab": {
      "provenance": []
    },
    "kernelspec": {
      "name": "python3",
      "display_name": "Python 3"
    },
    "language_info": {
      "name": "python"
    }
  },
  "cells": [
    {
      "cell_type": "markdown",
      "source": [
        "**Desafio 9** - Faça um programa que leia um número inteiro qualquer e mostre na tela a sua tabuada."
      ],
      "metadata": {
        "id": "2k1wA2aOf-9Y"
      }
    },
    {
      "cell_type": "code",
      "execution_count": 1,
      "metadata": {
        "colab": {
          "base_uri": "https://localhost:8080/"
        },
        "id": "8RJ53-4pf8Wr",
        "outputId": "13d5e72c-e972-47ed-a1e1-a607aa1cd0ce"
      },
      "outputs": [
        {
          "output_type": "stream",
          "name": "stdout",
          "text": [
            "Digite um número inteiro: 4\n",
            "4 x 1 = 4\n",
            "4 x 2 = 8\n",
            "4 x 3 = 12\n",
            "4 x 4 = 16\n",
            "4 x 5 = 20\n",
            "4 x 6 = 24\n",
            "4 x 7 = 28\n",
            "4 x 8 = 32\n",
            "4 x 9 = 36\n",
            "4 x 10 = 40\n"
          ]
        }
      ],
      "source": [
        "n = int(input('Digite um número inteiro: '))\n",
        "print(f'{n} x 1 = {n*1}')\n",
        "print(f'{n} x 2 = {n*2}')\n",
        "print(f'{n} x 3 = {n*3}')\n",
        "print(f'{n} x 4 = {n*4}')\n",
        "print(f'{n} x 5 = {n*5}')\n",
        "print(f'{n} x 6 = {n*6}')\n",
        "print(f'{n} x 7 = {n*7}')\n",
        "print(f'{n} x 8 = {n*8}')\n",
        "print(f'{n} x 9 = {n*9}')\n",
        "print(f'{n} x 10 = {n*10}')\n"
      ]
    }
  ]
}