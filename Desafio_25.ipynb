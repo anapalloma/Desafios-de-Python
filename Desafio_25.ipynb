{
  "nbformat": 4,
  "nbformat_minor": 0,
  "metadata": {
    "colab": {
      "provenance": []
    },
    "kernelspec": {
      "name": "python3",
      "display_name": "Python 3"
    },
    "language_info": {
      "name": "python"
    }
  },
  "cells": [
    {
      "cell_type": "markdown",
      "source": [
        "**Desafio 25** - Crie um programa que leia o nome de uma pessoa e diga se ele tem \"SILVA\" no nome"
      ],
      "metadata": {
        "id": "_dPld6Ul5Xbo"
      }
    },
    {
      "cell_type": "code",
      "execution_count": 1,
      "metadata": {
        "colab": {
          "base_uri": "https://localhost:8080/"
        },
        "id": "uljKkH4I5IcX",
        "outputId": "7f690659-d85e-4778-e5ee-c15f0d2b145a"
      },
      "outputs": [
        {
          "output_type": "stream",
          "name": "stdout",
          "text": [
            "Informe seu nome completo: caio bastos silva\n",
            "Que legal, Caio Bastos Silva! Seu sobrenome é Silva!\n"
          ]
        }
      ],
      "source": [
        "nome = str(input('Informe seu nome completo: '))\n",
        "nome = nome.title()\n",
        "if (nome.find('Silva') != -1):\n",
        "  print(f'Que legal, {nome}! Seu sobrenome é Silva!')\n",
        "else:\n",
        "  print(\"Hum... Você não tem 'Silva' no seu nome.\" )\n"
      ]
    }
  ]
}