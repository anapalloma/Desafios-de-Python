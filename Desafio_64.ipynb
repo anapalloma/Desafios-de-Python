{
  "nbformat": 4,
  "nbformat_minor": 0,
  "metadata": {
    "colab": {
      "provenance": []
    },
    "kernelspec": {
      "name": "python3",
      "display_name": "Python 3"
    },
    "language_info": {
      "name": "python"
    }
  },
  "cells": [
    {
      "cell_type": "markdown",
      "source": [
        "**Desafio 64** - Crie um programa que leia vários números inteiros pelo teclado. O programa só vai parar quando o usuário digitar o valor 999, que é a condição de parada. No final, mostre quantos números foram digitados e qual foi a soma entre eles (desconsiderando o flag)."
      ],
      "metadata": {
        "id": "PPgGlEwoEs6z"
      }
    },
    {
      "cell_type": "code",
      "execution_count": 4,
      "metadata": {
        "colab": {
          "base_uri": "https://localhost:8080/"
        },
        "id": "grcNMl2cEsh2",
        "outputId": "7b9fcc78-3904-435e-9553-97046229aed3"
      },
      "outputs": [
        {
          "output_type": "stream",
          "name": "stdout",
          "text": [
            "Digite um número [999 para parar]: 8\n",
            "Digite um número [999 para parar]: 2\n",
            "Digite um número [999 para parar]: 1\n",
            "Digite um número [999 para parar]: 7\n",
            "Digite um número [999 para parar]: 999\n",
            "\n",
            "Você digitou 4 números e a soma entre eles foi 18.\n"
          ]
        }
      ],
      "source": [
        "soma = 0\n",
        "count = 0\n",
        "num = None\n",
        "\n",
        "while num != 999:\n",
        "  num = int(input('Digite um número [999 para parar]: '))\n",
        "  if num != 999:\n",
        "    soma += num\n",
        "    count += 17\n",
        "print(f'\\nVocê digitou {count} números e a soma entre eles foi {soma}.')\n"
      ]
    }
  ]
}