{
  "nbformat": 4,
  "nbformat_minor": 0,
  "metadata": {
    "colab": {
      "provenance": []
    },
    "kernelspec": {
      "name": "python3",
      "display_name": "Python 3"
    },
    "language_info": {
      "name": "python"
    }
  },
  "cells": [
    {
      "cell_type": "markdown",
      "source": [
        "**Desafio 14** - Escreva um programa que converta uma temperatura digitada em °C para °F."
      ],
      "metadata": {
        "id": "zw3VmmbEwJxZ"
      }
    },
    {
      "cell_type": "code",
      "execution_count": 2,
      "metadata": {
        "colab": {
          "base_uri": "https://localhost:8080/"
        },
        "id": "ZOvXO4Z4wHNe",
        "outputId": "19a644e7-da58-4c67-90fa-4147245a15e4"
      },
      "outputs": [
        {
          "output_type": "stream",
          "name": "stdout",
          "text": [
            "Informe a temperatura em °C: 2\n",
            "A temperatura de 2.0°C corresponde a 35.60°F!\n"
          ]
        }
      ],
      "source": [
        "temperatura = float(input('Informe a temperatura em °C: '))\n",
        "print(f'A temperatura de {temperatura}°C corresponde a {((temperatura*(9/5))+32):.2f}°F!')\n"
      ]
    }
  ]
}