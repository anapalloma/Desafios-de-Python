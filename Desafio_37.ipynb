{
  "nbformat": 4,
  "nbformat_minor": 0,
  "metadata": {
    "colab": {
      "provenance": []
    },
    "kernelspec": {
      "name": "python3",
      "display_name": "Python 3"
    },
    "language_info": {
      "name": "python"
    }
  },
  "cells": [
    {
      "cell_type": "markdown",
      "source": [
        "**Desafio 37** - Escreva um programa que leia um número inteiro qualquer e peça para o usuário escolher qual será a base de conversão:\n",
        " -1 para bináro\n",
        " -2 para octal\n",
        " -3 para hexadecimal"
      ],
      "metadata": {
        "id": "odF-3RK8t0Yq"
      }
    },
    {
      "cell_type": "code",
      "execution_count": 12,
      "metadata": {
        "colab": {
          "base_uri": "https://localhost:8080/"
        },
        "id": "sjz-S56ctwoM",
        "outputId": "2b63c84f-8d46-49b4-a3ef-a0f44c43a82d"
      },
      "outputs": [
        {
          "output_type": "stream",
          "name": "stdout",
          "text": [
            "Digite um número inteiro: 234\n",
            "Escolha uma das bases para conversão:\n",
            "      [ 1 ] converter para BINÁRIO\n",
            "      [ 2 ] converter para OCTAL\n",
            "      [ 3 ] converter para HEXADECIMAl\n",
            "\n",
            "Sua opção: 2\n",
            "234 convertido para OCTAL é igual a 352.\n"
          ]
        }
      ],
      "source": [
        "num = int(input('Digite um número inteiro: '))\n",
        "\n",
        "print('''Escolha uma das bases para conversão:\n",
        "      [ 1 ] converter para BINÁRIO\n",
        "      [ 2 ] converter para OCTAL\n",
        "      [ 3 ] converter para HEXADECIMAl''')\n",
        "\n",
        "opcao = int(input('\\nSua opção: '))\n",
        "\n",
        "if(opcao == 1):\n",
        "  print(f'{num} convertido para BINÁRIO é igual a {(bin(num)[2:])}.')\n",
        "elif(opcao == 2):\n",
        "  print(f'{num} convertido para OCTAL é igual a {(oct(num)[2:])}.')\n",
        "elif(opcao == 3):\n",
        "  print(f'{num} convertido para HEXADECIMAL é igual a {(hex(num)[2:]).upper()}.')\n",
        "else:\n",
        "  print('Opção inválida!')\n"
      ]
    }
  ]
}