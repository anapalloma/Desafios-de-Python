{
  "nbformat": 4,
  "nbformat_minor": 0,
  "metadata": {
    "colab": {
      "provenance": []
    },
    "kernelspec": {
      "name": "python3",
      "display_name": "Python 3"
    },
    "language_info": {
      "name": "python"
    }
  },
  "cells": [
    {
      "cell_type": "markdown",
      "source": [
        "**Desafio 60** - Faça um programa que leia um número qualquer e mostre seu fatorial.\n",
        "\n",
        "Ex.:\n",
        "5! = 5x4x3x2x1 =120"
      ],
      "metadata": {
        "id": "0f8WbDd-vEB6"
      }
    },
    {
      "cell_type": "code",
      "execution_count": 7,
      "metadata": {
        "colab": {
          "base_uri": "https://localhost:8080/"
        },
        "id": "Y7-am9mCvBHw",
        "outputId": "5e5932d7-4a98-49ea-a754-0f64e5f29bad"
      },
      "outputs": [
        {
          "output_type": "stream",
          "name": "stdout",
          "text": [
            "Digite um número para calcular seu fatorial: 5\n",
            "\n",
            "O fatorial de 5 é 120!\n"
          ]
        }
      ],
      "source": [
        "from math import factorial\n",
        "\n",
        "num = int(input('Digite um número para calcular seu fatorial: '))\n",
        "f = factorial(num)\n",
        "\n",
        "print(f'\\nO fatorial de {num} é {f}!')\n"
      ]
    }
  ]
}