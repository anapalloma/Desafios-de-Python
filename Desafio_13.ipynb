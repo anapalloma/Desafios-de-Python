{
  "nbformat": 4,
  "nbformat_minor": 0,
  "metadata": {
    "colab": {
      "provenance": []
    },
    "kernelspec": {
      "name": "python3",
      "display_name": "Python 3"
    },
    "language_info": {
      "name": "python"
    }
  },
  "cells": [
    {
      "cell_type": "markdown",
      "source": [
        "**Desafio 13** - Faça um algoritmo que leia o salário de um funcionário e mostre seu novo salário, com 15% de aumento."
      ],
      "metadata": {
        "id": "ftIUdzy8mvwp"
      }
    },
    {
      "cell_type": "code",
      "execution_count": 1,
      "metadata": {
        "colab": {
          "base_uri": "https://localhost:8080/"
        },
        "id": "NHK8PZSMmtoS",
        "outputId": "ea2f95ca-3c9c-49f6-d591-8d29c8da81fb"
      },
      "outputs": [
        {
          "output_type": "stream",
          "name": "stdout",
          "text": [
            "Por favor, informe seu salário atual: R$ 1320\n",
            "Parabéns, você será promovido!\n",
            "Seu novo salário será R$ 1518.00!\n"
          ]
        }
      ],
      "source": [
        "salario = float(input('Por favor, informe seu salário atual: R$ '))\n",
        "print(f'Parabéns, você será promovido!\\nSeu novo salário será R$ {(salario*1.15):.2f}!')\n"
      ]
    }
  ]
}