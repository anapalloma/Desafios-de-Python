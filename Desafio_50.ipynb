{
  "nbformat": 4,
  "nbformat_minor": 0,
  "metadata": {
    "colab": {
      "provenance": []
    },
    "kernelspec": {
      "name": "python3",
      "display_name": "Python 3"
    },
    "language_info": {
      "name": "python"
    }
  },
  "cells": [
    {
      "cell_type": "markdown",
      "source": [
        "**Desafio 50** - Desenvolva um programa que leia seis números inteiros e mostre a soma apenas daqueles que forem pares. Se o valor digitado for ímpar, desconsidere-o."
      ],
      "metadata": {
        "id": "s3v_hbz7PkIo"
      }
    },
    {
      "cell_type": "code",
      "execution_count": 3,
      "metadata": {
        "colab": {
          "base_uri": "https://localhost:8080/"
        },
        "id": "SJGVaMaPPgz5",
        "outputId": "8dba6f11-5651-42f1-b7fc-708a2653de19"
      },
      "outputs": [
        {
          "output_type": "stream",
          "name": "stdout",
          "text": [
            "Digite um número: 77\n",
            "Digite um número: 85\n",
            "Digite um número: 48\n",
            "Digite um número: 99\n",
            "Digite um número: 16\n",
            "Digite um número: 1\n",
            "\n",
            "Você informou 2 números pares e a soma foi 64!\n"
          ]
        }
      ],
      "source": [
        "soma = 0\n",
        "count = 0\n",
        "\n",
        "for i in range(1, 7):\n",
        "  num = int(input('Digite um número: '))\n",
        "  if (num % 2 == 0):\n",
        "    soma += num\n",
        "    count +=1\n",
        "print(f'\\nVocê informou {count} números pares e a soma foi {soma}!')\n"
      ]
    }
  ]
}