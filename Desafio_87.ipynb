{
  "nbformat": 4,
  "nbformat_minor": 0,
  "metadata": {
    "colab": {
      "provenance": []
    },
    "kernelspec": {
      "name": "python3",
      "display_name": "Python 3"
    },
    "language_info": {
      "name": "python"
    }
  },
  "cells": [
    {
      "cell_type": "markdown",
      "source": [
        "**Desafio 87** - Aprimore o desafio anterior, mostrando no final:\n",
        "- A soma de todos os valores pares digitados;\n",
        "- A soma dos valores da terceira coluna;\n",
        "- O maior valor da segunda linha."
      ],
      "metadata": {
        "id": "ePzsmFDOTH-T"
      }
    },
    {
      "cell_type": "code",
      "execution_count": 10,
      "metadata": {
        "colab": {
          "base_uri": "https://localhost:8080/"
        },
        "id": "38IAvHUATFDf",
        "outputId": "7a11aaf6-8d93-44c8-8fce-624d16537240"
      },
      "outputs": [
        {
          "output_type": "stream",
          "name": "stdout",
          "text": [
            "Digite um valor para [0, 0]: 1\n",
            "Digite um valor para [0, 1]: 2\n",
            "Digite um valor para [0, 2]: 3\n",
            "Digite um valor para [1, 0]: 4\n",
            "Digite um valor para [1, 1]: 5\n",
            "Digite um valor para [1, 2]: 6\n",
            "Digite um valor para [2, 0]: 7\n",
            "Digite um valor para [2, 1]: 8\n",
            "Digite um valor para [2, 2]: 9\n",
            "\n",
            "A soma de todos os valores pares digitados é 20.\n",
            "A soma dos valores da terceira coluna é 24.\n",
            "O maior valor da segunda linha é 6.\n"
          ]
        }
      ],
      "source": [
        "matriz = [[0,0,0], [0,0,0], [0,0,0]]\n",
        "par = terceira = maior = 0\n",
        "\n",
        "for l in range(0,3):\n",
        "  for c in range(0,3):\n",
        "    matriz[l][c] = int(input(f'Digite um valor para [{l}, {c}]: '))\n",
        "\n",
        "for l in range(0,3):\n",
        "  for c in range(0,3):\n",
        "    if matriz[l][c] % 2 == 0:\n",
        "      par += matriz[l][c]\n",
        "\n",
        "for i in matriz[2]:\n",
        "  terceira += i\n",
        "\n",
        "for i in matriz[1]:\n",
        "  if i > maior:\n",
        "    maior = i\n",
        "\n",
        "print(f'\\nA soma de todos os valores pares digitados é {par}.')\n",
        "print(f'A soma dos valores da terceira coluna é {terceira}.')\n",
        "print(f'O maior valor da segunda linha é {maior}.')\n"
      ]
    }
  ]
}