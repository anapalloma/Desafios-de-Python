{
  "nbformat": 4,
  "nbformat_minor": 0,
  "metadata": {
    "colab": {
      "provenance": []
    },
    "kernelspec": {
      "name": "python3",
      "display_name": "Python 3"
    },
    "language_info": {
      "name": "python"
    }
  },
  "cells": [
    {
      "cell_type": "markdown",
      "source": [
        "**Desafio 28** - Escreva um programa que faça o computador \"pensar\" em um número inteiro entre 0 e 5 e peça para o usuário tentar descobrir qual foi o número escolhido pelo computador.\n",
        "\n",
        "O programa deverá escrever na tela se o usuário venceu ou perdeu."
      ],
      "metadata": {
        "id": "cZhZCA4Ogq7P"
      }
    },
    {
      "cell_type": "code",
      "execution_count": 2,
      "metadata": {
        "colab": {
          "base_uri": "https://localhost:8080/"
        },
        "id": "kdjSAdG9gp67",
        "outputId": "86f59619-72fd-4556-af75-88a44a387642"
      },
      "outputs": [
        {
          "output_type": "stream",
          "name": "stdout",
          "text": [
            "-=--=--=--=--=--=--=--=--=--=--=--=--=--=--=--=--=--=--=--=--=--=--=--=--=--=--=--=--=--=--=--=--=--=--=--=--=--=--=--=--=--=--=--=--=--=--=--=--=--=-\n",
            "Vou pensar em um número entre 0 e 5. Tente advinhar...\n",
            "-=--=--=--=--=--=--=--=--=--=--=--=--=--=--=--=--=--=--=--=--=--=--=--=--=--=--=--=--=--=--=--=--=--=--=--=--=--=--=--=--=--=--=--=--=--=--=--=--=--=-\n",
            "\n",
            "Em que número eu pensei? 2\n",
            "PROCESSANDO...\n",
            "Ganhei! Eu pensei no número 3 e não no 2!\n"
          ]
        }
      ],
      "source": [
        "import random\n",
        "\n",
        "print('-=-'*50)\n",
        "print('Vou pensar em um número entre 0 e 5. Tente advinhar...')\n",
        "print('-=-'*50)\n",
        "\n",
        "num = random.randint(0,5)\n",
        "\n",
        "aposta = int(input('\\nEm que número eu pensei? '))\n",
        "\n",
        "print('PROCESSANDO...')\n",
        "\n",
        "if aposta == num:\n",
        "  print('PARABÉNS! Você conseguiu me vencer!')\n",
        "else:\n",
        "  print(f'Ganhei! Eu pensei no número {num} e não no {aposta}!')\n"
      ]
    }
  ]
}