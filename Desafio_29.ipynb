{
  "nbformat": 4,
  "nbformat_minor": 0,
  "metadata": {
    "colab": {
      "provenance": []
    },
    "kernelspec": {
      "name": "python3",
      "display_name": "Python 3"
    },
    "language_info": {
      "name": "python"
    }
  },
  "cells": [
    {
      "cell_type": "markdown",
      "source": [
        "**Desafio 29** - Escreva um programa que leia a velocidade de um carro. Se ele ultrapassar 80km/h, mostre uma mensagem dizendo que ele foi multado. A multa vai custar R$ 7,00 por cada quilometro acima do limite."
      ],
      "metadata": {
        "id": "WkonHEu1k3wO"
      }
    },
    {
      "cell_type": "code",
      "execution_count": 4,
      "metadata": {
        "colab": {
          "base_uri": "https://localhost:8080/"
        },
        "id": "obhNvyDNk0mO",
        "outputId": "be867558-9922-4383-c3dd-5a366a92987a"
      },
      "outputs": [
        {
          "output_type": "stream",
          "name": "stdout",
          "text": [
            "Qual é a velocidade atual do carro? 105\n",
            "MULTADO! Você excedeu o limite permitido que é de 80km/h\n",
            "Você deve pagar uma multa de R$ 175.00!\n",
            "Tenha um bom dia! Dirija com segurança!\n"
          ]
        }
      ],
      "source": [
        "velocidade = float(input('Qual é a velocidade atual do carro? '))\n",
        "if (velocidade > 80.00):\n",
        "  print('MULTADO! Você excedeu o limite permitido que é de 80km/h')\n",
        "  print(f'Você deve pagar uma multa de R$ {((velocidade-80)*7):.2f}!')\n",
        "print('Tenha um bom dia! Dirija com segurança!')\n"
      ]
    }
  ]
}