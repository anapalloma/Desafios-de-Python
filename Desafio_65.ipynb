{
  "nbformat": 4,
  "nbformat_minor": 0,
  "metadata": {
    "colab": {
      "provenance": []
    },
    "kernelspec": {
      "name": "python3",
      "display_name": "Python 3"
    },
    "language_info": {
      "name": "python"
    }
  },
  "cells": [
    {
      "cell_type": "markdown",
      "source": [
        "**Desafio 65** - Crie um programa que leia vários números inteiros pelo teclado. No final da execução, mostre a média entre todos os valores e qual foi o maior e o menor valores lidos. O programa deve perguntar ao usuário se ele quer ou não continuar a digitar valores."
      ],
      "metadata": {
        "id": "yH634C6FGv2g"
      }
    },
    {
      "cell_type": "code",
      "execution_count": 27,
      "metadata": {
        "colab": {
          "base_uri": "https://localhost:8080/"
        },
        "id": "LfeKS0aDGtgD",
        "outputId": "08874ec6-1eca-4e3b-a1a9-18af4d0c1f60"
      },
      "outputs": [
        {
          "output_type": "stream",
          "name": "stdout",
          "text": [
            "Digite um número: 4\n",
            "Quer continuar? [S/N] s\n",
            "Digite um número: 2\n",
            "Quer continuar? [S/N] s\n",
            "Digite um número: 8\n",
            "Quer continuar? [S/N] s\n",
            "Digite um número: 9\n",
            "Quer continuar? [S/N] n\n",
            "\n",
            "Você digitou 4 numeros e a média foi 5.75.\n",
            "O maior valor foi 9 e o menor foi 2.\n"
          ]
        }
      ],
      "source": [
        "lista = []\n",
        "\n",
        "opcao = 'S'\n",
        "\n",
        "while opcao not in 'Nn':\n",
        "  num = int(input('Digite um número: '))\n",
        "  lista.append(num)\n",
        "  opcao = str(input('Quer continuar? [S/N] ')).upper().strip()[0]\n",
        "\n",
        "print(f'\\nVocê digitou {len(lista)} numeros e a média foi {sum(lista)/len(lista)}.')\n",
        "print(f'O maior valor foi {max(lista)} e o menor foi {min(lista)}.')\n",
        "\n",
        "# s9"
      ]
    }
  ]
}