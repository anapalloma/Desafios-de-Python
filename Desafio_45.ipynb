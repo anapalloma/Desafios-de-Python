{
  "nbformat": 4,
  "nbformat_minor": 0,
  "metadata": {
    "colab": {
      "provenance": []
    },
    "kernelspec": {
      "name": "python3",
      "display_name": "Python 3"
    },
    "language_info": {
      "name": "python"
    }
  },
  "cells": [
    {
      "cell_type": "markdown",
      "source": [
        "**Desafio 45** - Crie um programa que faça o computador jogar Jokenpô com você."
      ],
      "metadata": {
        "id": "pCMLG8UO39F_"
      }
    },
    {
      "cell_type": "code",
      "execution_count": 8,
      "metadata": {
        "colab": {
          "base_uri": "https://localhost:8080/"
        },
        "id": "CRxOQWx13uCR",
        "outputId": "300d066f-2c7b-4d0b-95bd-9837a1b45c4c"
      },
      "outputs": [
        {
          "output_type": "stream",
          "name": "stdout",
          "text": [
            "Suas opções:\n",
            "      [ 0 ] PEDRA\n",
            "      [ 1 ] PAPEL\n",
            "      [ 2 ] TESSOURA\n",
            "\n",
            "Qual é a sua jogada? 2\n",
            "-=-=-=-=-=-=-=-=-=-=-=\n",
            "Computador jogou Pedra\n",
            "Jogador jogou Tesoura\n",
            "-=-=-=-=-=-=-=-=-=-=-=\n"
          ]
        }
      ],
      "source": [
        "from random import randint\n",
        "\n",
        "itens = ('Pedra', 'Papel', 'Tesoura')\n",
        "\n",
        "computador = randint(0, 1)\n",
        "\n",
        "print('''Suas opções:\n",
        "      [ 0 ] PEDRA\n",
        "      [ 1 ] PAPEL\n",
        "      [ 2 ] TESSOURA''')\n",
        "\n",
        "jogador = int(input('\\nQual é a sua jogada? '))\n",
        "print('-=' * 11)\n",
        "print(f'Computador jogou {itens[computador]}')\n",
        "print(f'Jogador jogou {itens[jogador]}')\n",
        "print('-=' * 11)\n",
        "\n",
        "if (computador == 0): # Computador jogou pedra\n",
        "  if (jogador == 0):\n",
        "    print('EMPATE')\n",
        "  elif (jogador == 1):\n",
        "    print('JOGADOR VENCE')\n",
        "  elif (jogador == 2):\n",
        "    print('COMPUTADOR VENCE')\n",
        "  else:\n",
        "    print('JOGADA INVÁLIDA!')\n",
        "\n",
        "elif (computador == 1): # Computador jogou papel\n",
        "  if (jogador == 0):\n",
        "    print('COMPUTADOR VENCE')\n",
        "  elif (jogador == 1):\n",
        "    print('EMPATE')\n",
        "  elif (jogador == 2):\n",
        "    print('JOGADOR VENCE')\n",
        "  else:\n",
        "    print('JOGADA INVÁLIDA!')\n",
        "else: #Computador jogou tessoura\n",
        "  if (jogador == 0):\n",
        "\n",
        "\n",
        "  elif (jogador == 1):\n",
        "\n",
        "  elif (jogador == 2):\n",
        "    print('EMPATE')\n",
        "  else:\n",
        "    print('JOGADA INVÁLIDA!')\n",
        "\n",
        "\n"
      ]
    },
    {
      "cell_type": "code",
      "execution_count": 20,
      "metadata": {
        "colab": {
          "base_uri": "https://localhost:8080/"
        },
        "outputId": "d4d31183-3917-4815-fef4-d2f9d273b86d",
        "id": "Gkr6RloA8eQ2"
      },
      "outputs": [
        {
          "output_type": "stream",
          "name": "stdout",
          "text": [
            "Suas opções:\n",
            "      [ 0 ] PEDRA\n",
            "      [ 1 ] PAPEL\n",
            "      [ 2 ] TESSOURA\n",
            "\n",
            "Qual é a sua jogada? 1\n",
            "-=-=-=-=-=-=-=-=-=-=-=\n",
            "Computador jogou Pedra\n",
            "Jogador jogou Papel\n",
            "-=-=-=-=-=-=-=-=-=-=-=\n",
            "JOGADOR VENCE\n"
          ]
        }
      ],
      "source": [
        "from random import randint\n",
        "\n",
        "itens = ('Pedra', 'Papel', 'Tesoura')\n",
        "\n",
        "computador = randint(0, 1)\n",
        "\n",
        "print('''Suas opções:\n",
        "      [ 0 ] PEDRA\n",
        "      [ 1 ] PAPEL\n",
        "      [ 2 ] TESSOURA''')\n",
        "\n",
        "jogador = int(input('\\nQual é a sua jogada? '))\n",
        "print('-=' * 11)\n",
        "print(f'Computador jogou {itens[computador]}')\n",
        "print(f'Jogador jogou {itens[jogador]}')\n",
        "print('-=' * 11)\n",
        "\n",
        "if (computador == 0): # Computador jogou pedra\n",
        "  if (jogador == 0):\n",
        "    print('EMPATE')\n",
        "  elif (jogador == 1):\n",
        "    print('JOGADOR VENCE')\n",
        "  elif (jogador == 2):\n",
        "    print('COMPUTADOR VENCE')\n",
        "  else:\n",
        "    print('JOGADA INVÁLIDA!')\n",
        "\n",
        "elif (computador == 1): # Computador jogou papel\n",
        "  if (jogador == 0):\n",
        "    print('COMPUTADOR VENCE')\n",
        "  elif (jogador == 1):\n",
        "    print('EMPATE')\n",
        "  elif (jogador == 2):\n",
        "    print('JOGADOR VENCE')\n",
        "  else:\n",
        "    print('JOGADA INVÁLIDA!')\n",
        "\n",
        "else: #Computador jogou tessoura\n",
        "  if (jogador == 0):\n",
        "    print('JOGADOR VENCE')\n",
        "  elif (jogador == 1):\n",
        "    print('COMPUTADOR VENCE')\n",
        "  elif (jogador == 2):\n",
        "    print('EMPATE')\n",
        "  else:\n",
        "    print('JOGADA INVÁLIDA!')\n"
      ]
    }
  ]
}