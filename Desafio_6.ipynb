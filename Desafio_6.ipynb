{
  "nbformat": 4,
  "nbformat_minor": 0,
  "metadata": {
    "colab": {
      "provenance": []
    },
    "kernelspec": {
      "name": "python3",
      "display_name": "Python 3"
    },
    "language_info": {
      "name": "python"
    }
  },
  "cells": [
    {
      "cell_type": "markdown",
      "source": [
        "**Desafio 6** - Crie um algoritmo que leia um número e moste seu dobro, triplo e raiz quadrada."
      ],
      "metadata": {
        "id": "SnQY9xQjehPy"
      }
    },
    {
      "cell_type": "code",
      "execution_count": 3,
      "metadata": {
        "colab": {
          "base_uri": "https://localhost:8080/"
        },
        "id": "5CtTU2iZedeM",
        "outputId": "e6366cae-2c2a-4ad2-fa5f-30e1a54aaad9"
      },
      "outputs": [
        {
          "output_type": "stream",
          "name": "stdout",
          "text": [
            "Informe um número: 81\n",
            "O dobro deste número é 162\n",
            "O triplo deste número é 243\n",
            "A raíz quadrada deste número é 9\n"
          ]
        }
      ],
      "source": [
        "num = int(input('Informe um número: '))\n",
        "print(f'O dobro deste número é {num*2}')\n",
        "print(f'O triplo deste número é {num*3}')\n",
        "print(f'A raíz quadrada deste número é {int(num ** 0.5)}')\n"
      ]
    }
  ]
}