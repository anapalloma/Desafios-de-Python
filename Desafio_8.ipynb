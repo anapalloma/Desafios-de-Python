{
  "nbformat": 4,
  "nbformat_minor": 0,
  "metadata": {
    "colab": {
      "provenance": []
    },
    "kernelspec": {
      "name": "python3",
      "display_name": "Python 3"
    },
    "language_info": {
      "name": "python"
    }
  },
  "cells": [
    {
      "cell_type": "markdown",
      "source": [
        "**Desafio 8** - Escreva um programa que leia um valor em metros e escreva convertido em centímetros e milímetros."
      ],
      "metadata": {
        "id": "V4WjLBI3iIBK"
      }
    },
    {
      "cell_type": "code",
      "execution_count": 1,
      "metadata": {
        "colab": {
          "base_uri": "https://localhost:8080/",
          "height": 0
        },
        "id": "ZsheKus8h1IV",
        "outputId": "008ed1cd-1e81-4d61-ef34-c6f6442ff2d3"
      },
      "outputs": [
        {
          "output_type": "stream",
          "name": "stdout",
          "text": [
            "Informe o valor em metros: 3\n",
            "O valor informado corresponde a 300 centímetros!\n",
            "O valor informado corresponde a 3000 milímetros!\n"
          ]
        }
      ],
      "source": [
        "m = int(input('Informe o valor em metros: '))\n",
        "print(f'O valor informado corresponde a {m*100} centímetros!')\n",
        "print(f'O valor informado corresponde a {m*1000} milímetros!')\n"
      ]
    }
  ]
}