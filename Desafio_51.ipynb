{
  "nbformat": 4,
  "nbformat_minor": 0,
  "metadata": {
    "colab": {
      "provenance": []
    },
    "kernelspec": {
      "name": "python3",
      "display_name": "Python 3"
    },
    "language_info": {
      "name": "python"
    }
  },
  "cells": [
    {
      "cell_type": "markdown",
      "source": [
        "**Desafio 50** - Desenvolva um programa que leia o primeiro termo e a razão de uma PA. No final, mostre os 10 primeiros termos dessa regressão."
      ],
      "metadata": {
        "id": "AxG--aKFK6iv"
      }
    },
    {
      "cell_type": "code",
      "execution_count": 12,
      "metadata": {
        "colab": {
          "base_uri": "https://localhost:8080/"
        },
        "id": "7dCSWRS_K23b",
        "outputId": "249bc6ed-6e48-42e0-b121-1deedd206439"
      },
      "outputs": [
        {
          "output_type": "stream",
          "name": "stdout",
          "text": [
            "Primeiro termo: 8\n",
            "Razão: 97\n",
            "8 ⇾ 105 ⇾ 202 ⇾ 299 ⇾ 396 ⇾ 493 ⇾ 590 ⇾ 687 ⇾ 784 ⇾ 881 ⇾ ACABOU!\n"
          ]
        }
      ],
      "source": [
        "p = int(input('Primeiro termo: '))\n",
        "r = int(input('Razão: '))\n",
        "\n",
        "d= p + (10-1) * r\n",
        "\n",
        "for pa in range (p, d + r, r):\n",
        "  print(pa, end = ' ⇾ ')\n",
        "print('ACABOU!')"
      ]
    }
  ]
}