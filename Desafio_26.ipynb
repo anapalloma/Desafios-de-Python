{
  "nbformat": 4,
  "nbformat_minor": 0,
  "metadata": {
    "colab": {
      "provenance": []
    },
    "kernelspec": {
      "name": "python3",
      "display_name": "Python 3"
    },
    "language_info": {
      "name": "python"
    }
  },
  "cells": [
    {
      "cell_type": "markdown",
      "source": [
        "**Desafio 26** - Faça um programa que leia uma frase pelo teclado e mostre:\n",
        "- Quantas vezes aparece a letra \"A\";\n",
        "- Em que posição ela aparece a primeira vez;\n",
        "- Em que posição ela aparece a última vez."
      ],
      "metadata": {
        "id": "NPMUGzQZACzI"
      }
    },
    {
      "cell_type": "code",
      "execution_count": 1,
      "metadata": {
        "colab": {
          "base_uri": "https://localhost:8080/"
        },
        "id": "8Nm1lxwhAAYX",
        "outputId": "b98e3e74-10f5-42c4-d3ba-f97b294afff6"
      },
      "outputs": [
        {
          "output_type": "stream",
          "name": "stdout",
          "text": [
            "Digite uma frase: Cecília ama Pedro\n",
            "A letra A aparece 3 vezes na frase.\n",
            "A letra A aparece a primera vez na 6ª posição.\n",
            "A letra A aparece a última vez na 10ª posição.\n"
          ]
        }
      ],
      "source": [
        "frase = str(input('Digite uma frase: ')).lower().strip()\n",
        "print(f\"A letra A aparece {frase.count('a')} vezes na frase.\")\n",
        "print(f\"A letra A aparece a primera vez na {frase.find('a')}ª posição.\")\n",
        "print(f\"A letra A aparece a última vez na {frase.rfind('a')}ª posição.\")\n"
      ]
    }
  ]
}