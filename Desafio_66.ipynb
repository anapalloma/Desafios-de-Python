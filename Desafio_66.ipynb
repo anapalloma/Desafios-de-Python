{
  "nbformat": 4,
  "nbformat_minor": 0,
  "metadata": {
    "colab": {
      "provenance": []
    },
    "kernelspec": {
      "name": "python3",
      "display_name": "Python 3"
    },
    "language_info": {
      "name": "python"
    }
  },
  "cells": [
    {
      "cell_type": "markdown",
      "source": [
        "**Desafio 66** - Crie um programa que leia vários números inteiros pelo teclado. O programa só vai parar quando o usuário digitar o valor 999, que é a condição de parada. No final, mostre quantos números foram digitados e qual foi a soma entre eles (desconsiderando o flag)."
      ],
      "metadata": {
        "id": "col1BAvRNRe3"
      }
    },
    {
      "cell_type": "code",
      "execution_count": 2,
      "metadata": {
        "colab": {
          "base_uri": "https://localhost:8080/"
        },
        "id": "UcKog_KGNN6x",
        "outputId": "9e8a4be7-4618-4ef4-c25e-ddb28bb50520"
      },
      "outputs": [
        {
          "output_type": "stream",
          "name": "stdout",
          "text": [
            "Digite um valor: 3\n",
            "Digite um valor: 8\n",
            "Digite um valor: 1\n",
            "Digite um valor: 7\n",
            "Digite um valor: 999\n",
            "\n",
            "A soma dos 4 valores foi 19!\n"
          ]
        }
      ],
      "source": [
        "soma = 0\n",
        "count = 0\n",
        "\n",
        "while True:\n",
        "  num = int(input('Digite um valor: '))\n",
        "  if (num == 999):\n",
        "    break\n",
        "  soma += num\n",
        "  count += 1\n",
        "print(f'\\nA soma dos {count} valores foi {soma}!')\n"
      ]
    }
  ]
}