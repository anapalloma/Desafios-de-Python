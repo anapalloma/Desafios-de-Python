{
  "nbformat": 4,
  "nbformat_minor": 0,
  "metadata": {
    "colab": {
      "provenance": []
    },
    "kernelspec": {
      "name": "python3",
      "display_name": "Python 3"
    },
    "language_info": {
      "name": "python"
    }
  },
  "cells": [
    {
      "cell_type": "markdown",
      "source": [
        "**Desafio 77** - Crie um programa que tenha uma tupla com várias palavras (não usar acentos). Depois disso, você deve mostrar, para cada palavra, quais são as suas vogais."
      ],
      "metadata": {
        "id": "EVq44J4fjvqq"
      }
    },
    {
      "cell_type": "code",
      "execution_count": 18,
      "metadata": {
        "colab": {
          "base_uri": "https://localhost:8080/"
        },
        "id": "uqJJnWsWjlry",
        "outputId": "5fb911b0-51bd-48e9-b71e-a5ea4178cc16"
      },
      "outputs": [
        {
          "output_type": "stream",
          "name": "stdout",
          "text": [
            "\n",
            "Na palavra APRENDER temos A E E \n",
            "Na palavra PROGRAMAR temos O A A \n",
            "Na palavra LINGUAGEM temos I U A E \n",
            "Na palavra PYTHON temos O \n",
            "Na palavra CURSO temos U O \n",
            "Na palavra ESTUDAR temos E U A \n",
            "Na palavra PRATICAR temos A I A \n",
            "Na palavra TRABALHAR temos A A A \n",
            "Na palavra MERCADO temos E A O \n",
            "Na palavra PROGRAMADOR temos O A A O \n",
            "Na palavra FUTURO temos U U O "
          ]
        }
      ],
      "source": [
        "palavras = ('APRENDER', 'PROGRAMAR', 'LINGUAGEM', 'PYTHON', 'CURSO', 'ESTUDAR', 'PRATICAR', 'TRABALHAR', 'MERCADO', 'PROGRAMADOR', 'FUTURO')\n",
        "\n",
        "a = 0\n",
        "\n",
        "for p in palavras:\n",
        "  print(f'\\nNa palavra {p} temos ', end='')\n",
        "  for letra in p:\n",
        "    if letra.lower() in 'aeiou':\n",
        "      print(letra, end = ' ')"
      ]
    }
  ]
}