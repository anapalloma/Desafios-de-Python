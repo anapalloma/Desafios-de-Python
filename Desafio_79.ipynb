{
  "nbformat": 4,
  "nbformat_minor": 0,
  "metadata": {
    "colab": {
      "provenance": []
    },
    "kernelspec": {
      "name": "python3",
      "display_name": "Python 3"
    },
    "language_info": {
      "name": "python"
    }
  },
  "cells": [
    {
      "cell_type": "markdown",
      "source": [
        "**Desafio 79** - Crie um programa onde o o usuário possa digitar vários valores numéricos e cadastre-os em uma lista. Caso o número já exista lá dentro, ele não será adicinado. No final, serão exibidos todos os valores únicos digitados, em ordem crescente."
      ],
      "metadata": {
        "id": "d1d1vGVfcqle"
      }
    },
    {
      "cell_type": "code",
      "execution_count": 9,
      "metadata": {
        "colab": {
          "base_uri": "https://localhost:8080/"
        },
        "id": "p-zQa3vDcoSg",
        "outputId": "fdf174c2-d299-437e-9174-d69cee024938"
      },
      "outputs": [
        {
          "output_type": "stream",
          "name": "stdout",
          "text": [
            "\n",
            "Digite um valor: 55\n",
            "Valor adicionado com sucesso...\n",
            "Quer continuar? [S/N] HHHH\n",
            "Quer continuar? [S/N] S\n",
            "\n",
            "Digite um valor: -999\n",
            "Valor adicionado com sucesso...\n",
            "Quer continuar? [S/N] S\n",
            "\n",
            "Digite um valor: 4\n",
            "Valor adicionado com sucesso...\n",
            "Quer continuar? [S/N] S\n",
            "\n",
            "Digite um valor: 4\n",
            "Valor duplicado! Não vou adicionar...\n",
            "Quer continuar? [S/N] N\n",
            "-=--=--=--=--=--=--=--=--=--=--=--=--=--=--=--=--=--=--=--=--=--=--=--=--=--=--=--=--=--=--=--=--=--=--=--=--=--=--=--=-\n",
            "Você digitou os valores [-999, 4, 55].\n"
          ]
        }
      ],
      "source": [
        "lista = []\n",
        "\n",
        "while True:\n",
        "  num = int(input('\\nDigite um valor: '))\n",
        "  if num not in lista:\n",
        "    lista.append(num)\n",
        "    print('Valor adicionado com sucesso...')\n",
        "  else:\n",
        "    print('Valor duplicado! Não vou adicionar...')\n",
        "  opcao = ' '\n",
        "  while opcao not in 'SN':\n",
        "    opcao = str(input('Quer continuar? [S/N] ')).strip().upper()[0]\n",
        "  if opcao in 'N':\n",
        "    print('-=-' * 40)\n",
        "    print(f'Você digitou os valores {sorted(lista)}.')\n",
        "    break\n",
        "\n",
        ""
      ]
    }
  ]
}