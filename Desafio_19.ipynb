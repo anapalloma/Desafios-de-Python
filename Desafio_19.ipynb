{
  "nbformat": 4,
  "nbformat_minor": 0,
  "metadata": {
    "colab": {
      "provenance": []
    },
    "kernelspec": {
      "name": "python3",
      "display_name": "Python 3"
    },
    "language_info": {
      "name": "python"
    }
  },
  "cells": [
    {
      "cell_type": "markdown",
      "source": [
        "**Desafio 19** - Um professor quer sortear um dos seus quatro alunos para apagar o quadro. Faça um programa que ajude ele, lendo o nome deles e escrevendo o nome do escolhido."
      ],
      "metadata": {
        "id": "VkrMG15nBDg8"
      }
    },
    {
      "cell_type": "code",
      "execution_count": 16,
      "metadata": {
        "colab": {
          "base_uri": "https://localhost:8080/"
        },
        "id": "1xu4DCkuBDCO",
        "outputId": "d170aff2-fc5c-4ccf-b6c7-49b62316de1d"
      },
      "outputs": [
        {
          "output_type": "stream",
          "name": "stdout",
          "text": [
            "Primeiro aluno: Ana\n",
            "Segundo aluno: Carol\n",
            "Terceiro aluno: Luzia\n",
            "Quarto aluno: Pedro\n",
            "\n",
            "O aluno sorteado foi Carol!\n"
          ]
        }
      ],
      "source": [
        "from random import choice\n",
        "\n",
        "aluno1 = input('Primeiro aluno: ')\n",
        "aluno2 = input('Segundo aluno: ')\n",
        "aluno3 = input('Terceiro aluno: ')\n",
        "aluno4 = input('Quarto aluno: ')\n",
        "lista = [aluno1, aluno2, aluno3, aluno4]\n",
        "sorteado = choice(lista)\n",
        "print(f'\\nO aluno sorteado foi {sorteado}!')\n"
      ]
    }
  ]
}