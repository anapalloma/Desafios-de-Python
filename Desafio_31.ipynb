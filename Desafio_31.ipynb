{
  "nbformat": 4,
  "nbformat_minor": 0,
  "metadata": {
    "colab": {
      "provenance": []
    },
    "kernelspec": {
      "name": "python3",
      "display_name": "Python 3"
    },
    "language_info": {
      "name": "python"
    }
  },
  "cells": [
    {
      "cell_type": "markdown",
      "source": [
        "**Desafio 31** - Desenvolva um programa que pergunte a distância de uma viagem em Km. Calcule o preço da passagem, cobrando ciquenta centavos por quilômetro para viagens de até 200km e R$ 0,45 para viagens mais longas."
      ],
      "metadata": {
        "id": "UMgZvdHBoJqX"
      }
    },
    {
      "cell_type": "code",
      "execution_count": 5,
      "metadata": {
        "colab": {
          "base_uri": "https://localhost:8080/"
        },
        "id": "4EQd8vTboGZJ",
        "outputId": "7cb9a92c-7584-459e-feef-fea242b00782"
      },
      "outputs": [
        {
          "output_type": "stream",
          "name": "stdout",
          "text": [
            "Qual é a distância da sua viagem? 300\n",
            "\n",
            "Você está prestes a começar uma viagem de 300.00km.\n",
            "E o preço da sua passagem será de R$ 135.00 \n"
          ]
        }
      ],
      "source": [
        "distancia = float(input('Qual é a distância da sua viagem? '))\n",
        "\n",
        "print(f'\\nVocê está prestes a começar uma viagem de {distancia:.2f}km.')\n",
        "if (distancia <= 200):\n",
        "  preco = distancia * 0.50\n",
        "else:\n",
        "  preco = distancia * 0.45\n",
        "print(f'E o preço da sua passagem será de R$ {preco:.2f} ')\n"
      ]
    }
  ]
}