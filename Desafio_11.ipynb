{
  "nbformat": 4,
  "nbformat_minor": 0,
  "metadata": {
    "colab": {
      "provenance": []
    },
    "kernelspec": {
      "name": "python3",
      "display_name": "Python 3"
    },
    "language_info": {
      "name": "python"
    }
  },
  "cells": [
    {
      "cell_type": "markdown",
      "source": [
        "**Desafio 11** - Faça um programa que leia a largura e a altura de uma parede em metros, calcule a sua área e a quantidade de tinta necessária para pintá-la, sabendo que cada litro de tinta, pinta uma área de 2m²."
      ],
      "metadata": {
        "id": "EpxxrvOzjsWw"
      }
    },
    {
      "cell_type": "code",
      "execution_count": 3,
      "metadata": {
        "colab": {
          "base_uri": "https://localhost:8080/"
        },
        "id": "0rF7Ek5ajotM",
        "outputId": "915b59f8-eeae-452e-e35c-3d7ec90b7248"
      },
      "outputs": [
        {
          "output_type": "stream",
          "name": "stdout",
          "text": [
            "Informe a largura da parede: 1.6\n",
            "Informe a altura da parede: 2\n",
            "A área total é 3.2m².\n",
            "A quantidade de tinta necessária para pintar a parede é 1.60 litros.\n"
          ]
        }
      ],
      "source": [
        "largura = float(input('Informe a largura da parede: '))\n",
        "altura = float(input('Informe a altura da parede: '))\n",
        "area = largura * altura\n",
        "print(f'A área total é {area}m².\\nA quantidade de tinta necessária para pintar a parede é {(area/2):.2f} litros.')\n"
      ]
    }
  ]
}