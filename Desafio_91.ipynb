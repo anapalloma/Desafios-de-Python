{
  "nbformat": 4,
  "nbformat_minor": 0,
  "metadata": {
    "colab": {
      "provenance": []
    },
    "kernelspec": {
      "name": "python3",
      "display_name": "Python 3"
    },
    "language_info": {
      "name": "python"
    }
  },
  "cells": [
    {
      "cell_type": "markdown",
      "source": [
        "**Desafio 91** - Crie um programa onde 4 jogadores joguem um dado e tenham resultados aleatórios. Guarde esses resultados em um dicionário. No final, coloque esse dicionário em ordem, sabendo que o vencedor tirou o maior número no dado."
      ],
      "metadata": {
        "id": "yjZSTePLYm4O"
      }
    },
    {
      "cell_type": "code",
      "execution_count": 7,
      "metadata": {
        "colab": {
          "base_uri": "https://localhost:8080/"
        },
        "id": "_1nmcyFLYiUx",
        "outputId": "00935f39-1925-4b00-d489-d88c03ce9df5"
      },
      "outputs": [
        {
          "output_type": "stream",
          "name": "stdout",
          "text": [
            "Valores sorteados:\n",
            "jogador1 = 2\n",
            "jogador2 = 6\n",
            "jogador3 = 5\n",
            "jogador4 = 4\n",
            "-=--=--=--=--=--=--=--=--=--=--=--=--=--=--=--=--=--=--=--=--=--=--=--=--=--=--=--=--=--=-\n",
            "  == RANKING DOS JOGADORES ==\n",
            "  1º lugar : jogador2 com 6.\n",
            "  2º lugar : jogador3 com 5.\n",
            "  3º lugar : jogador4 com 4.\n",
            "  4º lugar : jogador1 com 2.\n"
          ]
        }
      ],
      "source": [
        "from random import randint\n",
        "from time import sleep\n",
        "from operator import itemgetter\n",
        "\n",
        "jogo = {'jogador1': randint(1,6),\n",
        "        'jogador2': randint(1,6),\n",
        "        'jogador3': randint(1,6),\n",
        "        'jogador4': randint(1,6)}\n",
        "\n",
        "ranking = list()\n",
        "\n",
        "print('Valores sorteados:')\n",
        "for k, v in jogo.items():\n",
        "  print(f'{k} = {v}')\n",
        "  sleep(1)\n",
        "\n",
        "ranking = sorted(jogo.items(), key = itemgetter(1), reverse = True)\n",
        "print('-=-'*30)\n",
        "print('  == RANKING DOS JOGADORES ==')\n",
        "for i, v in enumerate(ranking): # Por ser uma lista usa-se o 'enumerate', no lugar do 'items'\n",
        "  print(f'  {i+1}º lugar : {v[0]} com {v[1]}.')"
      ]
    }
  ]
}