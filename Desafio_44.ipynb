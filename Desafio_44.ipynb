{
  "nbformat": 4,
  "nbformat_minor": 0,
  "metadata": {
    "colab": {
      "provenance": []
    },
    "kernelspec": {
      "name": "python3",
      "display_name": "Python 3"
    },
    "language_info": {
      "name": "python"
    }
  },
  "cells": [
    {
      "cell_type": "markdown",
      "source": [
        "**Desafio 44** - Elabore um programa que calcule o valor a ser pago por um produto, considerando o seu preço normal e condição de pagamento:\n",
        "- À vista, dinheiro/cheque: 10% de desconto.\n",
        "- À vista no cartão: 5% de desconto.\n",
        "- Em até 2x no cartão: preço normal.\n",
        "- 3x ou mais no cartão: 20% de juros"
      ],
      "metadata": {
        "id": "O3k_dthHwcaY"
      }
    },
    {
      "cell_type": "code",
      "execution_count": 20,
      "metadata": {
        "colab": {
          "base_uri": "https://localhost:8080/"
        },
        "id": "H6fJA5SgwaF5",
        "outputId": "79a2d36a-a4c0-4976-e4ae-164d3b65e00f"
      },
      "outputs": [
        {
          "output_type": "stream",
          "name": "stdout",
          "text": [
            "========== Lojas Ana Palloma ===========\n",
            "\n",
            "Preço das compras: R$ 4000\n",
            "\n",
            "FORMAS DE PAGAMENTO:\n",
            "      [ 1 ] À vista (dinheiro ou cheque)\n",
            "      [ 2 ] À vista (cartão)\n",
            "      [ 3 ] 2x no cartão\n",
            "      [ 4 ] 3x ou mais no cartão\n",
            "    \n",
            "\n",
            "Qual é a opção? 4\n",
            "Quantas parcelas? 10\n",
            "Sua compra será parcelada em 10x de R$ 480.00 COM JUROS\n",
            "Sua compra de R$ 4000.00 vai custar R$ 4800.00 no final.\n"
          ]
        }
      ],
      "source": [
        "print(f\"{' Lojas Ana Palloma ':=^40}\")\n",
        "\n",
        "\n",
        "preco = float(input('\\nPreço das compras: R$ '))\n",
        "\n",
        "print('''\\nFORMAS DE PAGAMENTO:\n",
        "      [ 1 ] À vista (dinheiro ou cheque)\n",
        "      [ 2 ] À vista (cartão)\n",
        "      [ 3 ] 2x no cartão\n",
        "      [ 4 ] 3x ou mais no cartão\n",
        "    ''')\n",
        "\n",
        "opcao = int(input('\\nQual é a opção? '))\n",
        "\n",
        "if(opcao == 1):\n",
        "  total = (preco * 0.90)\n",
        "elif(opcao == 2):\n",
        "  total = (preco * 0.95)\n",
        "elif(opcao == 3):\n",
        "  parcelas = preco / 2\n",
        "  total = preco\n",
        "  print(f'Sua compra será parcelada em 2x de R$ {parcelas:.2f} SEM JUROS')\n",
        "elif(opcao == 4):\n",
        "  quant = int(input('Quantas parcelas? '))\n",
        "  parcelas = (preco * 1.20)/quant\n",
        "  total = (preco * 1.20)\n",
        "  print(f'Sua compra será parcelada em {quant}x de R$ {parcelas:.2f} COM JUROS')\n",
        "\n",
        "print(f'Sua compra de R$ {preco:.2f} vai custar R$ {total:.2f} no final.')\n"
      ]
    }
  ]
}