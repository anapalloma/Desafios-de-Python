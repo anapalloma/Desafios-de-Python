{
  "nbformat": 4,
  "nbformat_minor": 0,
  "metadata": {
    "colab": {
      "provenance": []
    },
    "kernelspec": {
      "name": "python3",
      "display_name": "Python 3"
    },
    "language_info": {
      "name": "python"
    }
  },
  "cells": [
    {
      "cell_type": "markdown",
      "source": [
        "**Desafio 5** - Faça um programa que leia um número inteiro e moste na tela o seu sucessor e seu antecessor."
      ],
      "metadata": {
        "id": "kP2cFnABd0mO"
      }
    },
    {
      "cell_type": "code",
      "execution_count": 1,
      "metadata": {
        "colab": {
          "base_uri": "https://localhost:8080/"
        },
        "id": "GJJ2NJwrWCVa",
        "outputId": "07443445-8a41-4df2-dd17-103c6e996d99"
      },
      "outputs": [
        {
          "output_type": "stream",
          "name": "stdout",
          "text": [
            "Digite um número: 20\n",
            "O sucessor do número digitado é  21\n",
            "O antecessor do número digitado é  19\n"
          ]
        }
      ],
      "source": [
        "num = int(input('Digite um número: '))\n",
        "print('O sucessor do número digitado é ', num+1)\n",
        "print('O antecessor do número digitado é ',num-1)\n"
      ]
    }
  ]
}