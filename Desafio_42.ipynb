{
  "nbformat": 4,
  "nbformat_minor": 0,
  "metadata": {
    "colab": {
      "provenance": []
    },
    "kernelspec": {
      "name": "python3",
      "display_name": "Python 3"
    },
    "language_info": {
      "name": "python"
    }
  },
  "cells": [
    {
      "cell_type": "markdown",
      "source": [
        "**Desafio 42** - Refaça o **DESAFIO 035** dos triângulos, acrescentando o recurso de mostrar que tipo de triângulo será formado:\n",
        "- Equilátero: todos os lados iguais\n",
        "- Isósceles: dois lados iguais\n",
        "- Escaleno: todos os lados diferentes"
      ],
      "metadata": {
        "id": "mKo6rz1ClRpX"
      }
    },
    {
      "cell_type": "code",
      "execution_count": 11,
      "metadata": {
        "colab": {
          "base_uri": "https://localhost:8080/"
        },
        "id": "HeRXuSQolPY5",
        "outputId": "1a55191e-efe4-4083-dd3e-a24b536d455d"
      },
      "outputs": [
        {
          "output_type": "stream",
          "name": "stdout",
          "text": [
            "-=--=--=--=--=--=--=--=--=--=--=--=--=--=--=--=--=--=--=--=--=--=--=--=--=--=--=--=--=--=--=--=--=--=--=--=--=--=--=--=-\n",
            "Analisador de Triângulos\n",
            "-=--=--=--=--=--=--=--=--=--=--=--=--=--=--=--=--=--=--=--=--=--=--=--=--=--=--=--=--=--=--=--=--=--=--=--=--=--=--=--=-\n",
            "\n",
            "Primeiro segmento: 5\n",
            "Segundo segmento: 7\n",
            "Terceiro segmento: 8\n",
            "\n",
            "Os segmentos acimam PODEM FORMAR triângulo ESCALENO!\n"
          ]
        }
      ],
      "source": [
        "print('-=-'*40)\n",
        "print('Analisador de Triângulos')\n",
        "print('-=-'*40)\n",
        "\n",
        "p1 = float(input('\\nPrimeiro segmento: '))\n",
        "p2 = float(input('Segundo segmento: '))\n",
        "p3 = float(input('Terceiro segmento: '))\n",
        "\n",
        "if (p1 < (p2+p3)) and (p2 < (p1+p3)) and (p3 < (p1+p2)):\n",
        "  print('\\nOs segmentos acimam PODEM FORMAR triângulo ', end='')\n",
        "  if p1 == p2 == p3:\n",
        "    print('EQUILÁTERO!')\n",
        "  elif(p1 == p2) or (p1 == p3):\n",
        "    print('ISÓSCELES!')\n",
        "  else:\n",
        "    print('ESCALENO!')\n",
        "else:\n",
        "  print('\\nOs segmentos acimam NÃO PODEM FORMAR triângulo!')\n"
      ]
    }
  ]
}