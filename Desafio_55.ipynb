{
  "nbformat": 4,
  "nbformat_minor": 0,
  "metadata": {
    "colab": {
      "provenance": []
    },
    "kernelspec": {
      "name": "python3",
      "display_name": "Python 3"
    },
    "language_info": {
      "name": "python"
    }
  },
  "cells": [
    {
      "cell_type": "markdown",
      "source": [
        "**Desafio 55** - Faça um programa que leia o peso de cinco pessoas. No final, mostre qual foi o maior e o menor peso lidos."
      ],
      "metadata": {
        "id": "ZKz2I6w1aEf7"
      }
    },
    {
      "cell_type": "code",
      "execution_count": 17,
      "metadata": {
        "colab": {
          "base_uri": "https://localhost:8080/"
        },
        "id": "dkY9IIhBZ2Rv",
        "outputId": "d831ca03-2586-4154-b204-9bec34c068b5"
      },
      "outputs": [
        {
          "output_type": "stream",
          "name": "stdout",
          "text": [
            "Peso da 1º pessoa: 85.6\n",
            "Peso da 2º pessoa: 90.2\n",
            "Peso da 3º pessoa: 48.9\n",
            "Peso da 4º pessoa: 70.7\n",
            "Peso da 5º pessoa: 65.5\n",
            "\n",
            "O maior peso lido foi de 90.2kg\n",
            "O menor peso lido foi de 48.9kg\n"
          ]
        }
      ],
      "source": [
        "lista = []\n",
        "\n",
        "for p in range (1, 6):\n",
        "  peso = float(input(f'Peso da {p}º pessoa: '))\n",
        "  lista.append(peso)\n",
        "\n",
        "print(f'\\nO maior peso lido foi de {max(lista):.1f}kg')\n",
        "print(f'O menor peso lido foi de {min(lista):.1f}kg')\n"
      ]
    }
  ]
}