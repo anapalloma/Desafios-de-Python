{
  "nbformat": 4,
  "nbformat_minor": 0,
  "metadata": {
    "colab": {
      "provenance": []
    },
    "kernelspec": {
      "name": "python3",
      "display_name": "Python 3"
    },
    "language_info": {
      "name": "python"
    }
  },
  "cells": [
    {
      "cell_type": "markdown",
      "source": [
        "**Desafio 41** - A Confederação Nacional de Natação precisa de um programa que leia o ano de nascimento de um atleta e mostre sua categoria, de acordo com a idade:\n",
        "- Até 9 anos: MIRIN\n",
        "- Até 14 anos: INFANTIL\n",
        "- Até 19 anos: JUNIOR\n",
        "- Até 25 anos: SÊNIOR\n",
        "- Acima: MASTER"
      ],
      "metadata": {
        "id": "kZCbzLROidtw"
      }
    },
    {
      "cell_type": "code",
      "execution_count": 5,
      "metadata": {
        "colab": {
          "base_uri": "https://localhost:8080/"
        },
        "id": "bw4aFwPHiYyA",
        "outputId": "94e544e2-fdb4-4b0e-9478-b8d48a461cd7"
      },
      "outputs": [
        {
          "output_type": "stream",
          "name": "stdout",
          "text": [
            "Ano de nascimento: 1993\n",
            "\n",
            "O atleta tem 30 anos.\n",
            "Classificação: MASTER\n"
          ]
        }
      ],
      "source": [
        "from datetime import date\n",
        "\n",
        "nasc = int(input('Ano de nascimento: '))\n",
        "\n",
        "atual = date.today().year\n",
        "\n",
        "idade = atual - nasc\n",
        "\n",
        "print(f'\\nO atleta tem {idade} anos.')\n",
        "\n",
        "if (idade <= 9):\n",
        "  print('Classificação: MIRIN')\n",
        "elif(idade <= 14):\n",
        "  print('Classificação: INFANTIL')\n",
        "elif(idade <= 19):\n",
        "  print('Classificação: JUNIOR')\n",
        "elif(idade <= 25):\n",
        "  print('Classificação: SÊNIOR')\n",
        "else:\n",
        "  print('Classificação: MASTER')\n",
        "\n",
        "\n"
      ]
    }
  ]
}