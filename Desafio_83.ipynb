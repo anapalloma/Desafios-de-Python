{
  "nbformat": 4,
  "nbformat_minor": 0,
  "metadata": {
    "colab": {
      "provenance": []
    },
    "kernelspec": {
      "name": "python3",
      "display_name": "Python 3"
    },
    "language_info": {
      "name": "python"
    }
  },
  "cells": [
    {
      "cell_type": "markdown",
      "source": [
        "**Desafio 83** - Crie um programa onde o usuário digite uma expressão qualquer que use parênteses. Seu aplicativo deverá analisar se a expressão passada está com parênteses abertos e fechados na ordem correta."
      ],
      "metadata": {
        "id": "kbKCdczp7DOm"
      }
    },
    {
      "cell_type": "code",
      "execution_count": null,
      "metadata": {
        "colab": {
          "base_uri": "https://localhost:8080/"
        },
        "id": "x9jD07xM7AIy",
        "outputId": "61709562-cf2d-422a-ced4-3645948ad3b4"
      },
      "outputs": [
        {
          "output_type": "stream",
          "name": "stdout",
          "text": [
            "Digite a expressão: ((a+b)*c)(x+y(3+2/3)*z)\n",
            "Sua expressão está certa!\n"
          ]
        }
      ],
      "source": [
        "i = 0\n",
        "abre = 0\n",
        "fecha = 0\n",
        "expressao = str(input('Digite a expressão: '))\n",
        "\n",
        "for i in range(0, len(expressao)):\n",
        "  if '(' in expressao[i]:\n",
        "      abre += 1\n",
        "  elif ')' in expressao[i]:\n",
        "      fecha += 1\n",
        "  i += 1\n",
        "\n",
        "print('Sua expressão está certa!' if abre == fecha else 'Sua expressão está errada!')\n",
        "\n"
      ]
    }
  ]
}