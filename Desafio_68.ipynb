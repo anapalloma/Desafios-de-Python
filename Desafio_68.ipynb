{
  "nbformat": 4,
  "nbformat_minor": 0,
  "metadata": {
    "colab": {
      "provenance": []
    },
    "kernelspec": {
      "name": "python3",
      "display_name": "Python 3"
    },
    "language_info": {
      "name": "python"
    }
  },
  "cells": [
    {
      "cell_type": "markdown",
      "source": [
        "**Desafio 68** - Faça um programa que jogue par ou ímpar com o computador. O jogo só será interrompido quando o jogador PERDER, mostrando o total de vitórias consecultivas que ele conquistou no final do jogo."
      ],
      "metadata": {
        "id": "_hB932taR81U"
      }
    },
    {
      "cell_type": "code",
      "execution_count": 9,
      "metadata": {
        "colab": {
          "base_uri": "https://localhost:8080/"
        },
        "id": "MRW6xMsVR6iL",
        "outputId": "b52a28ce-124d-4bec-8cc5-e3cac063e970"
      },
      "outputs": [
        {
          "output_type": "stream",
          "name": "stdout",
          "text": [
            "-=--=--=--=--=--=--=--=--=--=--=--=--=--=--=--=--=--=--=--=--=--=--=--=--=--=--=--=--=--=--=--=--=--=--=--=--=--=--=--=-\n",
            "VAMOS JOGAR PAR OU ÍMPAR\n",
            "-=--=--=--=--=--=--=--=--=--=--=--=--=--=--=--=--=--=--=--=--=--=--=--=--=--=--=--=--=--=--=--=--=--=--=--=--=--=--=--=-\n",
            "\n",
            "Diga um valor: 7\n",
            "Par ou Ímpar? [P/I] i\n",
            "-=--=--=--=--=--=--=--=--=--=--=--=--=--=--=--=--=--=--=--=--=--=--=--=--=--=--=--=--=--=--=--=--=--=--=--=--=--=--=--=-\n",
            "Você jogou 7 e o computador jogou 2. Total de 9 DEU ÍMPAR\n",
            "Você GANHOU!\n",
            "Vamos jogar novamente...\n",
            "\n",
            "Diga um valor: 9\n",
            "Par ou Ímpar? [P/I] i\n",
            "-=--=--=--=--=--=--=--=--=--=--=--=--=--=--=--=--=--=--=--=--=--=--=--=--=--=--=--=--=--=--=--=--=--=--=--=--=--=--=--=-\n",
            "Você jogou 9 e o computador jogou 9. Total de 18 DEU PAR\n",
            "Você PERDEU!\n"
          ]
        }
      ],
      "source": [
        "from random import randint\n",
        "\n",
        "vitorias = 0\n",
        "\n",
        "print('-=-' * 40)\n",
        "print('VAMOS JOGAR PAR OU ÍMPAR')\n",
        "print('-=-' * 40)\n",
        "\n",
        "while True:\n",
        "  maquina = randint(1,10)\n",
        "  user = int(input('\\nDiga um valor: '))\n",
        "  opcao = str(input('Par ou Ímpar? [P/I] '))\n",
        "\n",
        "  total = maquina + user\n",
        "\n",
        "  print('-=-' * 40)\n",
        "  print(f'Você jogou {user} e o computador jogou {maquina}. Total de {total} ', end='')\n",
        "  if total % 2 == 0:\n",
        "    print('DEU PAR')\n",
        "    if opcao in 'Ii':\n",
        "      print('Você PERDEU!')\n",
        "      break\n",
        "    elif opcao in 'Pp':\n",
        "      vitorias += 1\n",
        "      print('Você GANHOU!')\n",
        "      print('Vamos jogar novamente...')\n",
        "  else:\n",
        "    print('DEU ÍMPAR')\n",
        "    if opcao in 'Pp':\n",
        "      print('Você PERDEU!')\n",
        "      print(f'GAME OVER! Você venceu {vitorias} vezes.')\n",
        "      break\n",
        "    elif opcao in 'Ii':\n",
        "      vitorias += 1\n",
        "      print('Você GANHOU!')\n",
        "      print('Vamos jogar novamente...')"
      ]
    },
    {
      "cell_type": "code",
      "source": [
        "{}"
      ],
      "metadata": {
        "id": "mFRH1B5STrSK"
      },
      "execution_count": null,
      "outputs": []
    }
  ]
}