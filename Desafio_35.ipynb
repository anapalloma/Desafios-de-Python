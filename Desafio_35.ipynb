{
  "nbformat": 4,
  "nbformat_minor": 0,
  "metadata": {
    "colab": {
      "provenance": []
    },
    "kernelspec": {
      "name": "python3",
      "display_name": "Python 3"
    },
    "language_info": {
      "name": "python"
    }
  },
  "cells": [
    {
      "cell_type": "markdown",
      "source": [
        "**Desafio 35** - Desenvolva um programa que leia o comprimento de 3 retas e diga ao usuário se elas podem ou não formar um triângulo."
      ],
      "metadata": {
        "id": "sLOuJjcmaTFy"
      }
    },
    {
      "cell_type": "code",
      "execution_count": 3,
      "metadata": {
        "colab": {
          "base_uri": "https://localhost:8080/"
        },
        "id": "tGlUYPDtaPv2",
        "outputId": "4637397b-4158-4a1e-bb13-7b69f491558f"
      },
      "outputs": [
        {
          "output_type": "stream",
          "name": "stdout",
          "text": [
            "-=--=--=--=--=--=--=--=--=--=--=--=--=--=--=--=--=--=--=--=--=--=--=--=--=--=--=--=--=--=--=--=--=--=--=--=--=--=--=--=-\n",
            "Analisador de Triângulos\n",
            "-=--=--=--=--=--=--=--=--=--=--=--=--=--=--=--=--=--=--=--=--=--=--=--=--=--=--=--=--=--=--=--=--=--=--=--=--=--=--=--=-\n",
            "\n",
            "Primeiro segmento: 2\n",
            "Segundo segmento: 4\n",
            "Terceiro segmento: 9\n",
            "Os segmentos acimam NÃO PODEM FORMAR triângulo!\n"
          ]
        }
      ],
      "source": [
        "print('-=-'*40)\n",
        "print('Analisador de Triângulos')\n",
        "print('-=-'*40)\n",
        "\n",
        "p1 = float(input('\\nPrimeiro segmento: '))\n",
        "p2 = float(input('Segundo segmento: '))\n",
        "p3 = float(input('Terceiro segmento: '))\n",
        "\n",
        "if (p1 < (p2+p3)) and (p2 < (p1+p3)) and (p3 < (p1+p2)):\n",
        "  print('Os segmentos acimam PODEM FORMAR triângulo!')\n",
        "else:\n",
        "  print('Os segmentos acimam NÃO PODEM FORMAR triângulo!')\n"
      ]
    }
  ]
}