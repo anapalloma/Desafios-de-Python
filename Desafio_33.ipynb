{
  "nbformat": 4,
  "nbformat_minor": 0,
  "metadata": {
    "colab": {
      "provenance": []
    },
    "kernelspec": {
      "name": "python3",
      "display_name": "Python 3"
    },
    "language_info": {
      "name": "python"
    }
  },
  "cells": [
    {
      "cell_type": "markdown",
      "source": [
        "**Desafio 33** - Faça um programa que leia 3 números e mostre qual é o maior e qual é o menor."
      ],
      "metadata": {
        "id": "kVGxt1ThSmXW"
      }
    },
    {
      "cell_type": "code",
      "execution_count": 2,
      "metadata": {
        "colab": {
          "base_uri": "https://localhost:8080/"
        },
        "id": "QwFcTJNYSYHR",
        "outputId": "a27b62aa-2969-4db3-9c73-e6d518fe9041"
      },
      "outputs": [
        {
          "output_type": "stream",
          "name": "stdout",
          "text": [
            "Primeiro valor: 15\n",
            "Segundo valor: 888888\n",
            "Terceiro valor: -3\n",
            "O menor valor digitado foi -3\n",
            "O maior valor digitado foi 888888\n"
          ]
        }
      ],
      "source": [
        "n1 = int(input('Primeiro valor: '))\n",
        "n2 = int(input('Segundo valor: '))\n",
        "n3 = int(input('Terceiro valor: '))\n",
        "\n",
        "lista = [n1, n2, n3]\n",
        "\n",
        "print(f'O menor valor digitado foi {min(lista)}')\n",
        "print(f'O maior valor digitado foi {max(lista)}')\n"
      ]
    }
  ]
}