{
  "nbformat": 4,
  "nbformat_minor": 0,
  "metadata": {
    "colab": {
      "provenance": []
    },
    "kernelspec": {
      "name": "python3",
      "display_name": "Python 3"
    },
    "language_info": {
      "name": "python"
    }
  },
  "cells": [
    {
      "cell_type": "markdown",
      "source": [
        "**Desafio 48** - Faça um programa que calcule a soma entre todos os números ímpares que são múltiplos de três e que se encontram no intervalo de 1 até 500."
      ],
      "metadata": {
        "id": "Atu21l_gHwzB"
      }
    },
    {
      "cell_type": "code",
      "execution_count": 1,
      "metadata": {
        "colab": {
          "base_uri": "https://localhost:8080/"
        },
        "id": "Iy5hdZf1HtJF",
        "outputId": "7465d3f5-c53e-47bc-9645-f24c4ce111f5"
      },
      "outputs": [
        {
          "output_type": "stream",
          "name": "stdout",
          "text": [
            "A soma de todos os 83 valores solicitados é 20667\n"
          ]
        }
      ],
      "source": [
        "soma = 0\n",
        "count = 0\n",
        "\n",
        "for n in range(1, 501):\n",
        "  if (n % 2 == 1) and (n % 3 == 0):\n",
        "    soma += n\n",
        "    count += 1\n",
        "\n",
        "print(f'A soma de todos os {count} valores solicitados é {soma}')\n"
      ]
    }
  ]
}