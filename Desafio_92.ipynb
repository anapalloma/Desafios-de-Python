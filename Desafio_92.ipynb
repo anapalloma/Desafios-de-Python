{
  "nbformat": 4,
  "nbformat_minor": 0,
  "metadata": {
    "colab": {
      "provenance": []
    },
    "kernelspec": {
      "name": "python3",
      "display_name": "Python 3"
    },
    "language_info": {
      "name": "python"
    }
  },
  "cells": [
    {
      "cell_type": "markdown",
      "source": [
        "**Desafio 92** - Crie um programa que leia nome, ano de nascimento e carteira de trabalho e cadastre-os (com idade) em um dicionário. Se, por acaso, o CTPS for diferente de zero, o dicionário receberá também o ano de contratação e o salário. Calcule e acrescente, além da idade, com quantos anos a pessoa vai se aposentar."
      ],
      "metadata": {
        "id": "I714tBwoRymJ"
      }
    },
    {
      "cell_type": "code",
      "execution_count": 5,
      "metadata": {
        "colab": {
          "base_uri": "https://localhost:8080/"
        },
        "id": "PjzMoz2vRvAn",
        "outputId": "631a8274-2c28-4f4e-c19c-bab502d655c7"
      },
      "outputs": [
        {
          "output_type": "stream",
          "name": "stdout",
          "text": [
            "Nome: Carol Rezende\n",
            "Ano de nascimento: 1995\n",
            "Carteira de Trabalho (0 não tem): 12345\n",
            "Ano de contratação: 2014\n",
            "Salário: 2000\n",
            "- Nome é igual a Carol Rezende. \n",
            "- Idade é igual a 28. \n",
            "- CTPS é igual a 12345. \n",
            "- Ano de contratação é igual a 2014. \n",
            "- Salário é igual a 2000.0. \n",
            "- Ano de aposentadoria é igual a 2049. \n"
          ]
        }
      ],
      "source": [
        "from datetime import date\n",
        "\n",
        "dados = dict()\n",
        "\n",
        "dados['Nome'] = str(input('Nome: '))\n",
        "nascimento = int(input('Ano de nascimento: '))\n",
        "dados['Idade'] = date.today().year - nascimento\n",
        "dados['CTPS'] = int(input('Carteira de Trabalho (0 não tem): '))\n",
        "\n",
        "if dados['CTPS'] == 0:\n",
        "  print('-=-'*30)\n",
        "  for k, v in dados.items():\n",
        "    print(f'- {k} é igual a {v}. ')\n",
        "else:\n",
        "  dados['Ano de contratação'] = int(input('Ano de contratação: '))\n",
        "  dados['Salário'] = float(input('Salário: '))\n",
        "  dados['Ano de aposentadoria'] = dados['Ano de contratação'] + 35\n",
        "  # dados['Idade de Aposentadoria'] =\n",
        "  for k, v in dados.items():\n",
        "    print(f'- {k} é igual a {v}. ')\n"
      ]
    }
  ]
}