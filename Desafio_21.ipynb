{
  "nbformat": 4,
  "nbformat_minor": 0,
  "metadata": {
    "colab": {
      "provenance": []
    },
    "kernelspec": {
      "name": "python3",
      "display_name": "Python 3"
    },
    "language_info": {
      "name": "python"
    }
  },
  "cells": [
    {
      "cell_type": "markdown",
      "source": [
        "**Desafio 21** - Faça um programa em Python que abra e reproduza o áudio de um arquivo MP3."
      ],
      "metadata": {
        "id": "eFWwx1cDTwW6"
      }
    },
    {
      "cell_type": "code",
      "source": [
        "pip install pydub"
      ],
      "metadata": {
        "colab": {
          "base_uri": "https://localhost:8080/"
        },
        "id": "7s8j3Cah-tCf",
        "outputId": "38125bed-48d8-40d3-d558-87b1c4180225"
      },
      "execution_count": 1,
      "outputs": [
        {
          "output_type": "stream",
          "name": "stdout",
          "text": [
            "Requirement already satisfied: pydub in /usr/local/lib/python3.10/dist-packages (0.25.1)\n"
          ]
        }
      ]
    },
    {
      "cell_type": "code",
      "source": [
        "from pydub import AudioSegment\n",
        "from pydub.playback import play\n"
      ],
      "metadata": {
        "id": "BvMsao9R-uVX"
      },
      "execution_count": 2,
      "outputs": []
    },
    {
      "cell_type": "code",
      "source": [
        "audio = AudioSegment.from_file(\"/content/victory.mp3\", format=\"mp3\")\n"
      ],
      "metadata": {
        "id": "3ruDtGXK-xgH"
      },
      "execution_count": 3,
      "outputs": []
    },
    {
      "cell_type": "code",
      "source": [
        "play(audio)\n"
      ],
      "metadata": {
        "id": "zqUruI3k-2jE"
      },
      "execution_count": 4,
      "outputs": []
    }
  ]
}