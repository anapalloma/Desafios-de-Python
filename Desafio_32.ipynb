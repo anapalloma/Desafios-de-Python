{
  "nbformat": 4,
  "nbformat_minor": 0,
  "metadata": {
    "colab": {
      "provenance": []
    },
    "kernelspec": {
      "name": "python3",
      "display_name": "Python 3"
    },
    "language_info": {
      "name": "python"
    }
  },
  "cells": [
    {
      "cell_type": "markdown",
      "source": [
        "**Desafio 32** - Faça um programa que leia um ano qualquer e mostre se ele é bissexto."
      ],
      "metadata": {
        "id": "aRDOXqpBLUWF"
      }
    },
    {
      "cell_type": "code",
      "execution_count": 14,
      "metadata": {
        "colab": {
          "base_uri": "https://localhost:8080/"
        },
        "id": "EoF1WaT2K6z7",
        "outputId": "a4de725d-96e7-4c56-e588-b0393b0c5a58"
      },
      "outputs": [
        {
          "output_type": "stream",
          "name": "stdout",
          "text": [
            "Que ano quer analisar? Coloque 0 para analisar o ano atual: 0\n",
            "O ano 2023 NÃO é BISSEXTO!\n"
          ]
        }
      ],
      "source": [
        "from datetime import date\n",
        "\n",
        "ano = int(input('Que ano quer analisar? Coloque 0 para analisar o ano atual: '))\n",
        "\n",
        "if (ano == 0):\n",
        "  ano = date.today().year\n",
        "\n",
        "if (ano % 4 == 0) and (ano % 100 !=0) or (ano % 400 == 0):\n",
        "  print(f'O ano {ano} é BISSEXTO!')\n",
        "else:\n",
        "  print(f'O ano {ano} NÃO é BISSEXTO!')\n"
      ]
    }
  ]
}