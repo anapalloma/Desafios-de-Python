{
  "nbformat": 4,
  "nbformat_minor": 0,
  "metadata": {
    "colab": {
      "provenance": []
    },
    "kernelspec": {
      "name": "python3",
      "display_name": "Python 3"
    },
    "language_info": {
      "name": "python"
    }
  },
  "cells": [
    {
      "cell_type": "markdown",
      "source": [
        "**Desafio 85** - Crie um programa onde o usuário possa digitar 7 valor númericos e cadastre-os em uma lista única que mantenha separados os valores pares e ímpares. No final, mostre os valores pares e impares em ordem crescente."
      ],
      "metadata": {
        "id": "ruNiTPIE-Glb"
      }
    },
    {
      "cell_type": "code",
      "execution_count": 7,
      "metadata": {
        "colab": {
          "base_uri": "https://localhost:8080/"
        },
        "id": "3Oc2e4XJ-DUH",
        "outputId": "8e0d7546-2bbb-48d6-b696-7b905d0976b5"
      },
      "outputs": [
        {
          "output_type": "stream",
          "name": "stdout",
          "text": [
            "Digite um valor: 3\n",
            "Digite um valor: 2\n",
            "Digite um valor: 8\n",
            "Digite um valor: 96\n",
            "Digite um valor: 87\n",
            "Digite um valor: 4\n",
            "Digite um valor: 6\n",
            "\n",
            "Os valores pares digitados foram: [2, 4, 6, 8, 96].\n",
            "Os valores ímpares digitados foram: [3, 87].\n"
          ]
        }
      ],
      "source": [
        "lista = [[],[]]\n",
        "\n",
        "for i in range(1,8):\n",
        "  num = int(input('Digite um valor: '))\n",
        "  if num % 2 == 0:\n",
        "    lista[0].append(num)\n",
        "  else:\n",
        "    lista[1].append(num)\n",
        "\n",
        "print(f'\\nOs valores pares digitados foram: {sorted(lista[0])}.')\n",
        "print(f'Os valores ímpares digitados foram: {sorted(lista[1])}.')\n"
      ]
    }
  ]
}