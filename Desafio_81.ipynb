{
  "nbformat": 4,
  "nbformat_minor": 0,
  "metadata": {
    "colab": {
      "provenance": []
    },
    "kernelspec": {
      "name": "python3",
      "display_name": "Python 3"
    },
    "language_info": {
      "name": "python"
    }
  },
  "cells": [
    {
      "cell_type": "markdown",
      "source": [
        "**Desafio 81** - Crie um programa que vai ler vários números e colocar em uma lista. Depois disso, mostre:\n",
        "\n",
        "A) Quantos números foram digitados.\n",
        "B) A lista de valores, ordenada de de forma crescente.\n",
        "C) Se o valor 5 foi digitado e está ou não na lista."
      ],
      "metadata": {
        "id": "8hwVhaZnw4ka"
      }
    },
    {
      "cell_type": "code",
      "execution_count": 4,
      "metadata": {
        "colab": {
          "base_uri": "https://localhost:8080/"
        },
        "id": "f5nGFiw1wylL",
        "outputId": "da0b412d-9431-4f66-cb71-141ba0190aac"
      },
      "outputs": [
        {
          "output_type": "stream",
          "name": "stdout",
          "text": [
            "Digite um valor: 7895463\n",
            "Deseja continuar? [S/N] s\n",
            "Digite um valor: 6\n",
            "Deseja continuar? [S/N] s\n",
            "Digite um valor: 893\n",
            "Deseja continuar? [S/N] hjgffdsds\n",
            "Deseja continuar? [S/N] s\n",
            "Digite um valor: 3\n",
            "Deseja continuar? [S/N] n\n",
            "\n",
            "Você digitou 4 elementos.\n",
            "Os valores em ordem crescente são [3, 6, 893, 7895463].\n",
            "O valor 5 não foi encontrado na lista!\n"
          ]
        }
      ],
      "source": [
        "lista = []\n",
        "\n",
        "while True:\n",
        "  num = int(input('Digite um valor: '))\n",
        "  lista.append(num)\n",
        "  opcao = ' '\n",
        "  while opcao not in 'SN':\n",
        "    opcao = str(input('Deseja continuar? [S/N] ')).strip().upper()[0]\n",
        "  if opcao in 'N':\n",
        "    break\n",
        "\n",
        "print(f'\\nVocê digitou {len(lista)} elementos.')\n",
        "print(f'Os valores em ordem crescente são {sorted(lista)}.')\n",
        "print('O valor 5 faz parte da lista!' if 5 in lista else 'O valor 5 não foi encontrado na lista!')\n"
      ]
    }
  ]
}