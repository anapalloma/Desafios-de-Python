{
  "nbformat": 4,
  "nbformat_minor": 0,
  "metadata": {
    "colab": {
      "provenance": []
    },
    "kernelspec": {
      "name": "python3",
      "display_name": "Python 3"
    },
    "language_info": {
      "name": "python"
    }
  },
  "cells": [
    {
      "cell_type": "markdown",
      "source": [
        "**Desafio 84** - Faça um programa que leia o nome e o peso de várias pessoas, guardando tudo em uma lista. No final, mostre:\n",
        "- Quantas pessoas foram cadastradas.\n",
        "- Uma listagem com as pessoas mais pesadas.\n",
        "- Uma listagem com as pessoas mais leves.\n"
      ],
      "metadata": {
        "id": "BRUdK6QWKjFI"
      }
    },
    {
      "cell_type": "code",
      "execution_count": 23,
      "metadata": {
        "colab": {
          "base_uri": "https://localhost:8080/"
        },
        "id": "mfNFEapzKfq1",
        "outputId": "a410f59d-053c-4735-d95a-505215ac2d9d"
      },
      "outputs": [
        {
          "output_type": "stream",
          "name": "stdout",
          "text": [
            "Nome: Ana\n",
            "Peso: 75.5\n",
            "Quer continuar? [S/N] s\n",
            "Nome: Pedro\n",
            "Peso: 89\n",
            "Quer continuar? [S/N] s\n",
            "Nome: Joana\n",
            "Peso: 89\n",
            "Quer continuar? [S/N] s\n",
            "Nome: Carolina\n",
            "Peso: 55\n",
            "Quer continuar? [S/N] s\n",
            "Nome: Bianca\n",
            "Peso: 55\n",
            "Quer continuar? [S/N] n\n",
            "\n",
            "Ao todo você cadastrou 5 pessoas.\n",
            "O maior peso foi 89.00 quilos. Peso de [Pedro] [Joana] \n",
            "O menor peso foi 55.00 quilos. Peso de [Carolina] [Bianca] "
          ]
        }
      ],
      "source": [
        "lista = []\n",
        "dados = []\n",
        "maior = menor = 0\n",
        "\n",
        "while True:\n",
        "  dados.append(str(input('Nome: ')))\n",
        "  dados.append(float(input('Peso: ')))\n",
        "  if len(lista) == 0:\n",
        "    maior = menor = dados[1]\n",
        "  else:\n",
        "    if dados[1] > maior:\n",
        "      maior = dados[1]\n",
        "    elif dados[1] < menor:\n",
        "      menor = dados[1]\n",
        "  lista.append(dados[:])\n",
        "  dados.clear()\n",
        "  opcao = ' '\n",
        "  while opcao not in 'SN':\n",
        "    opcao = str(input('Quer continuar? [S/N] ')).strip().upper()[0]\n",
        "  if opcao in 'N':\n",
        "    break\n",
        "\n",
        "print(f'\\nAo todo você cadastrou {len(lista)} pessoas.')\n",
        "print(f'O maior peso foi {maior:.2f} quilos. Peso de ', end='')\n",
        "for p in lista:\n",
        "  if p[1] == maior:\n",
        "    print(f'[{p[0]}]', end=' ')\n",
        "print(f'\\nO menor peso foi {menor:.2f} quilos. Peso de ', end='')\n",
        "for p in lista:\n",
        "  if p[1] == menor:\n",
        "    print(f'[{p[0]}]', end=' ')\n"
      ]
    }
  ]
}