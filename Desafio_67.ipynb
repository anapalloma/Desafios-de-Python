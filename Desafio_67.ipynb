{
  "nbformat": 4,
  "nbformat_minor": 0,
  "metadata": {
    "colab": {
      "provenance": []
    },
    "kernelspec": {
      "name": "python3",
      "display_name": "Python 3"
    },
    "language_info": {
      "name": "python"
    }
  },
  "cells": [
    {
      "cell_type": "markdown",
      "source": [
        "**Desafio 67** - Faça um programa que mostre a tabuada de vários números, um de cada vez, para cada valor digitado pelo usuário. O programa será interrompido quando o número solicitado for negativo."
      ],
      "metadata": {
        "id": "VywyXRaeOpBS"
      }
    },
    {
      "cell_type": "code",
      "execution_count": 13,
      "metadata": {
        "colab": {
          "base_uri": "https://localhost:8080/"
        },
        "id": "CVBXQ9ptOnA4",
        "outputId": "25428f24-a1cb-4297-f2d4-87d8b0767ede"
      },
      "outputs": [
        {
          "name": "stdout",
          "output_type": "stream",
          "text": [
            "Quer ver a tabuada de qual valor? 5\n",
            "----------------------------------------\n",
            "5 x 1 = 5\n",
            "5 x 2 = 10\n",
            "5 x 3 = 15\n",
            "5 x 4 = 20\n",
            "5 x 5 = 25\n",
            "5 x 6 = 30\n",
            "5 x 7 = 35\n",
            "5 x 8 = 40\n",
            "5 x 9 = 45\n",
            "5 x 10 = 50\n",
            "----------------------------------------\n",
            "Quer ver a tabuada de qual valor? 8\n",
            "----------------------------------------\n",
            "8 x 1 = 8\n",
            "8 x 2 = 16\n",
            "8 x 3 = 24\n",
            "8 x 4 = 32\n",
            "8 x 5 = 40\n",
            "8 x 6 = 48\n",
            "8 x 7 = 56\n",
            "8 x 8 = 64\n",
            "8 x 9 = 72\n",
            "8 x 10 = 80\n",
            "----------------------------------------\n",
            "Quer ver a tabuada de qual valor? 88888\n",
            "----------------------------------------\n",
            "88888 x 1 = 88888\n",
            "88888 x 2 = 177776\n",
            "88888 x 3 = 266664\n",
            "88888 x 4 = 355552\n",
            "88888 x 5 = 444440\n",
            "88888 x 6 = 533328\n",
            "88888 x 7 = 622216\n",
            "88888 x 8 = 711104\n",
            "88888 x 9 = 799992\n",
            "88888 x 10 = 888880\n",
            "----------------------------------------\n",
            "Quer ver a tabuada de qual valor? -5\n"
          ]
        }
      ],
      "source": [
        "while True:\n",
        "  valor = int(input('Quer ver a tabuada de qual valor? '))\n",
        "  if valor < 0:\n",
        "    break\n",
        "  print('-' * 40)\n",
        "  for c in range (1, 11):\n",
        "    print (f'{valor} x {c} = {valor * c}')\n",
        "    c += 1\n",
        "  print('-' * 40)\n"
      ]
    },
    {
      "cell_type": "code",
      "source": [],
      "metadata": {
        "id": "JISWv1kUPINz"
      },
      "execution_count": null,
      "outputs": []
    }
  ]
}