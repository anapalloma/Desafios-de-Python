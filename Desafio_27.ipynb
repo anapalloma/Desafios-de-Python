{
  "nbformat": 4,
  "nbformat_minor": 0,
  "metadata": {
    "colab": {
      "provenance": []
    },
    "kernelspec": {
      "name": "python3",
      "display_name": "Python 3"
    },
    "language_info": {
      "name": "python"
    }
  },
  "cells": [
    {
      "cell_type": "markdown",
      "source": [
        "**Desafio 27** - Faça um programa que leia o nome completo de uma pessoa, mostrando em seguida o primeiro e o último nome separadamente."
      ],
      "metadata": {
        "id": "iNGdRI17HNtO"
      }
    },
    {
      "cell_type": "code",
      "execution_count": 1,
      "metadata": {
        "colab": {
          "base_uri": "https://localhost:8080/"
        },
        "id": "9VdDD3yKHLU8",
        "outputId": "cf3da7bf-83a0-4f58-de3e-48df05d0b24a"
      },
      "outputs": [
        {
          "output_type": "stream",
          "name": "stdout",
          "text": [
            "Digite seu nome completo: ana palloma rocha fernandes\n",
            "Seu primeiro nome é Ana\n",
            "Seu último nome é Fernandes\n"
          ]
        }
      ],
      "source": [
        "nome = str(input('Digite seu nome completo: ')).title().strip()\n",
        "nome = nome.split()\n",
        "print(f\"Seu primeiro nome é {nome[0]}\")\n",
        "print(f\"Seu último nome é {nome[len(nome)-1]}\")\n"
      ]
    }
  ]
}