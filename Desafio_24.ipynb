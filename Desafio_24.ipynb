{
  "nbformat": 4,
  "nbformat_minor": 0,
  "metadata": {
    "colab": {
      "provenance": []
    },
    "kernelspec": {
      "name": "python3",
      "display_name": "Python 3"
    },
    "language_info": {
      "name": "python"
    }
  },
  "cells": [
    {
      "cell_type": "markdown",
      "source": [
        "**Desafio 24** - Crie um programa que leia o nome de uma cidade e diga se ela começa ou não com o nome SANTO."
      ],
      "metadata": {
        "id": "tv5KpGtO20Zm"
      }
    },
    {
      "cell_type": "code",
      "execution_count": 2,
      "metadata": {
        "colab": {
          "base_uri": "https://localhost:8080/"
        },
        "id": "d9_5BnTU2xef",
        "outputId": "62293630-a789-48a9-9f81-256468350f04"
      },
      "outputs": [
        {
          "output_type": "stream",
          "name": "stdout",
          "text": [
            "Em que cidade você nasceu? Santo Amaro\n",
            "True\n"
          ]
        }
      ],
      "source": [
        "cidade = str(input('Em que cidade você nasceu? '))\n",
        "print(cidade[:5] == 'Santo')\n"
      ]
    }
  ]
}