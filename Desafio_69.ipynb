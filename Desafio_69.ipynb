{
  "nbformat": 4,
  "nbformat_minor": 0,
  "metadata": {
    "colab": {
      "provenance": []
    },
    "kernelspec": {
      "name": "python3",
      "display_name": "Python 3"
    },
    "language_info": {
      "name": "python"
    }
  },
  "cells": [
    {
      "cell_type": "markdown",
      "source": [
        "**Desafio 69** - Crie um programa que leia a idade e o sexo de várias pessoas. A cada pessoa cadastrada, o programa deverá perguntar se o usuário quer ou não continuar. Ao final, mostre:\n",
        "\n",
        "A) Quantas pessoas têm mais de 18 anos.\n",
        "B) Quantos homens foram cadastrados.\n",
        "C) Quantas mulheres têm menos de 20 anos."
      ],
      "metadata": {
        "id": "butsuZlqLUpk"
      }
    },
    {
      "cell_type": "code",
      "execution_count": 15,
      "metadata": {
        "colab": {
          "base_uri": "https://localhost:8080/"
        },
        "id": "Zn2xNCusLSGy",
        "outputId": "c4db80f1-3027-451b-d4c2-653e4bd9a5a9"
      },
      "outputs": [
        {
          "output_type": "stream",
          "name": "stdout",
          "text": [
            "----------------------------------------\n",
            "          CADASTRE UMA PESSOA           \n",
            "----------------------------------------\n",
            "Idade: 30\n",
            "Sexo: [M/F] aaaa\n",
            "Sexo: [M/F] f\n",
            "----------------------------------------\n",
            "Quer continuar? [S/N] ppp\n",
            "Quer continuar? [S/N] s\n",
            "----------------------------------------\n",
            "          CADASTRE UMA PESSOA           \n",
            "----------------------------------------\n",
            "Idade: 30\n",
            "Sexo: [M/F] m\n",
            "----------------------------------------\n",
            "Quer continuar? [S/N] s\n",
            "----------------------------------------\n",
            "          CADASTRE UMA PESSOA           \n",
            "----------------------------------------\n",
            "Idade: 75\n",
            "Sexo: [M/F] m\n",
            "----------------------------------------\n",
            "Quer continuar? [S/N] s\n",
            "----------------------------------------\n",
            "          CADASTRE UMA PESSOA           \n",
            "----------------------------------------\n",
            "Idade: 68\n",
            "Sexo: [M/F] f\n",
            "----------------------------------------\n",
            "Quer continuar? [S/N] s\n",
            "----------------------------------------\n",
            "          CADASTRE UMA PESSOA           \n",
            "----------------------------------------\n",
            "Idade: 15\n",
            "Sexo: [M/F] f\n",
            "----------------------------------------\n",
            "Quer continuar? [S/N] n\n",
            "\n",
            "Total de pessoas com mais de 18 anos: 4\n",
            "Ao todo temos 2 homens cadastrado(s)\n",
            "E temos 1 mulher(es) com menos de 20 anos\n"
          ]
        }
      ],
      "source": [
        "maiores = 0\n",
        "homens = 0\n",
        "mulheres_jovens = 0\n",
        "\n",
        "while True:\n",
        "  print('-'*40)\n",
        "  titulo = 'Cadastre uma pessoa'\n",
        "  print(f'{titulo:^40}'.upper())\n",
        "  print('-'*40)\n",
        "  idade = int(input('Idade: '))\n",
        "  sexo = ' '\n",
        "  while sexo not in 'MF':\n",
        "    sexo = str(input('Sexo: [M/F] ')).strip().upper()[0]\n",
        "  if idade > 18:\n",
        "    maiores += 1\n",
        "  if sexo in 'M':\n",
        "    homens += 1\n",
        "  if sexo in 'F' and idade < 20:\n",
        "    mulheres_jovens += 1\n",
        "  print('-'*40)\n",
        "  opcao = ' '\n",
        "  while opcao not in 'SN':\n",
        "    opcao = str(input('Quer continuar? [S/N] ')).strip().upper()[0]\n",
        "  if opcao in 'Nn':\n",
        "    break\n",
        "print(f'\\nTotal de pessoas com mais de 18 anos: {maiores}')\n",
        "print(f'Ao todo temos {homens} homens cadastrado(s)')\n",
        "print(f'E temos {mulheres_jovens} mulher(es) com menos de 20 anos')\n"
      ]
    }
  ]
}