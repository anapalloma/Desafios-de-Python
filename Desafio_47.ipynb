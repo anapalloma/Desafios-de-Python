{
  "nbformat": 4,
  "nbformat_minor": 0,
  "metadata": {
    "colab": {
      "provenance": []
    },
    "kernelspec": {
      "name": "python3",
      "display_name": "Python 3"
    },
    "language_info": {
      "name": "python"
    }
  },
  "cells": [
    {
      "cell_type": "markdown",
      "source": [
        "**Desafio 47** - Crie um programa que mostre na tela todos os números pares que estão no intervalo entre 1 e 50."
      ],
      "metadata": {
        "id": "umvJpyWEDjtG"
      }
    },
    {
      "cell_type": "code",
      "execution_count": 4,
      "metadata": {
        "colab": {
          "base_uri": "https://localhost:8080/"
        },
        "id": "oe7mQuGKDd5V",
        "outputId": "52bbafc4-cb7d-47fc-de83-044aa0c2a169"
      },
      "outputs": [
        {
          "output_type": "stream",
          "name": "stdout",
          "text": [
            "2 4 6 8 10 12 14 16 18 20 22 24 26 28 30 32 34 36 38 40 42 44 46 48 50 ACABOU!\n"
          ]
        }
      ],
      "source": [
        "for n in range(1, 51):\n",
        "  if (n % 2 == 0):\n",
        "    print(n, end = ' ')\n",
        "print('ACABOU!')\n"
      ]
    }
  ]
}