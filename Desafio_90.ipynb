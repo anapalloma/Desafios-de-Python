{
  "nbformat": 4,
  "nbformat_minor": 0,
  "metadata": {
    "colab": {
      "provenance": []
    },
    "kernelspec": {
      "name": "python3",
      "display_name": "Python 3"
    },
    "language_info": {
      "name": "python"
    }
  },
  "cells": [
    {
      "cell_type": "markdown",
      "source": [
        "**Desafio 90** - Faça um programa que leia nome e média de um aluno, guardando também a situação em um dicionário. No final, mostre o conteúdo da estrutura na tela."
      ],
      "metadata": {
        "id": "KNJhTQBuOrn3"
      }
    },
    {
      "cell_type": "code",
      "execution_count": 12,
      "metadata": {
        "colab": {
          "base_uri": "https://localhost:8080/"
        },
        "id": "eQB1uPW9N62b",
        "outputId": "5b8bfce0-8901-4f3d-db42-e3d8637a2a21"
      },
      "outputs": [
        {
          "output_type": "stream",
          "name": "stdout",
          "text": [
            "Nome: Ana Palloma\n",
            "Média de Ana Palloma é: 8\n",
            "-=--=--=--=--=--=--=--=--=--=--=--=--=--=--=--=--=--=--=--=--=--=--=--=--=--=--=--=--=--=-\n",
            "\n",
            "- Nome é igual a Ana Palloma.\n",
            "- Média é igual a 8.0.\n",
            "- Situação é igual a Aprovado(a).\n"
          ]
        }
      ],
      "source": [
        "dados = dict()\n",
        "dados['Nome'] = str(input('Nome: '))\n",
        "dados['Média'] = float(input(f'Média de {dados[\"Nome\"]} é: '))\n",
        "if dados['Média'] >= 7:\n",
        "  dados['Situação'] = 'Aprovado(a)'\n",
        "elif 5 <= dados['Média'] < 7:\n",
        "  dados['Situação'] = 'Recuperação'\n",
        "else:\n",
        "  dados['Situação'] = 'Reprovado'\n",
        "\n",
        "print('-=-' * 30)\n",
        "print()\n",
        "for k,v in dados.items():\n",
        "  print(f'- {k} é igual a {v}.')\n"
      ]
    }
  ]
}