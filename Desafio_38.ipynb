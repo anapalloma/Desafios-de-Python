{
  "nbformat": 4,
  "nbformat_minor": 0,
  "metadata": {
    "colab": {
      "provenance": []
    },
    "kernelspec": {
      "name": "python3",
      "display_name": "Python 3"
    },
    "language_info": {
      "name": "python"
    }
  },
  "cells": [
    {
      "cell_type": "markdown",
      "source": [
        "**Desafio 38** - Escreva um programa que leia **dois números** inteiros e compare-os, mostrando na tela uma mensagem:\n",
        "- O primeiro valor é maior;\n",
        "- O segundo valor é maior;\n",
        "- Não existe valor maior, os dois são iguais."
      ],
      "metadata": {
        "id": "iWQUfprlY4j6"
      }
    },
    {
      "cell_type": "code",
      "execution_count": 4,
      "metadata": {
        "colab": {
          "base_uri": "https://localhost:8080/"
        },
        "id": "0voTb1LgY1EB",
        "outputId": "17c308d2-9414-40e7-8240-c1f5ae203b8f"
      },
      "outputs": [
        {
          "output_type": "stream",
          "name": "stdout",
          "text": [
            "Primeiro número: 12\n",
            "Segundo número: 12\n",
            "\n",
            "Os dois valores são IGUAIS!\n"
          ]
        }
      ],
      "source": [
        "num1 = int(input('Primeiro número: '))\n",
        "num2 = int(input('Segundo número: '))\n",
        "if(num1 > num2):\n",
        "  print('\\nO primeiro valor é maior!')\n",
        "elif (num2 > num1):\n",
        "  print('\\nO segundo valor é maior!')\n",
        "else:\n",
        "  print('\\nOs dois valores são IGUAIS!')\n"
      ]
    }
  ]
}