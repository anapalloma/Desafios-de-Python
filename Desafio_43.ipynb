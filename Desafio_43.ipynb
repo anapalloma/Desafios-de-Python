{
  "nbformat": 4,
  "nbformat_minor": 0,
  "metadata": {
    "colab": {
      "provenance": []
    },
    "kernelspec": {
      "name": "python3",
      "display_name": "Python 3"
    },
    "language_info": {
      "name": "python"
    }
  },
  "cells": [
    {
      "cell_type": "markdown",
      "source": [
        "**Desafio 43** - Desenvolva uma lógica que leia o peso e a altura de uma pessoa, calcule seu IMC e mostre seu status, de acordo com a tabela abaixo:\n",
        "\n",
        "- Abaixo de 18.5: Abaixo do peso\n",
        "- Entre 18.5 e 25: Peso ideal\n",
        "- 25 até 30: Sobrepeso\n",
        "- 30 até 40: Obesidade\n",
        "- Acima de 40: Obesidade mórbida"
      ],
      "metadata": {
        "id": "7aFyju1XsU7c"
      }
    },
    {
      "cell_type": "code",
      "execution_count": 9,
      "metadata": {
        "colab": {
          "base_uri": "https://localhost:8080/"
        },
        "id": "Mug2VM4vsRoU",
        "outputId": "b07439c2-5552-4de3-b8ca-e69dea166949"
      },
      "outputs": [
        {
          "output_type": "stream",
          "name": "stdout",
          "text": [
            "Qual é seu peso? (Kg) 50\n",
            "Qual é sua altura? (m) 1.63\n",
            "\n",
            "O IMC dessa pessoa é de 18.82.\n",
            "PARABÉNs, você está na faixa de peso NORMAL\n"
          ]
        }
      ],
      "source": [
        "peso = float(input('Qual é seu peso? (Kg) '))\n",
        "altura = float(input('Qual é sua altura? (m) '))\n",
        "\n",
        "imc = peso/(altura ** 2)\n",
        "\n",
        "print(f'\\nO IMC dessa pessoa é de {imc:.2f}.')\n",
        "\n",
        "if (imc < 18.5):\n",
        "  print('Você está ABAIXO DO PESO normal')\n",
        "elif(18.5 <= imc < 25):\n",
        "  print('PARABÉNs, você está na faixa de peso NORMAL')\n",
        "elif(25 <= imc < 30):\n",
        "  print('Você está em SOBREPESO')\n",
        "elif(30 <= imc < 40):\n",
        "  print('Você está em OBESIDADE')\n",
        "else:\n",
        "  print('Você está em OBESIDADE MÓRBIDA, cuidado!')\n"
      ]
    }
  ]
}