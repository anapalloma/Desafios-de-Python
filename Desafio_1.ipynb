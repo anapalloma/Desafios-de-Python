{
  "nbformat": 4,
  "nbformat_minor": 0,
  "metadata": {
    "colab": {
      "provenance": []
    },
    "kernelspec": {
      "name": "python3",
      "display_name": "Python 3"
    },
    "language_info": {
      "name": "python"
    }
  },
  "cells": [
    {
      "cell_type": "markdown",
      "source": [
        "**DESAFIO 1**- Crie um script Python que leia o nome de uma pessoa e mostre uma mensagem de boas-vindas de acordo com o valor digitado."
      ],
      "metadata": {
        "id": "CLQrbEtZgtZx"
      }
    },
    {
      "cell_type": "code",
      "execution_count": 1,
      "metadata": {
        "colab": {
          "base_uri": "https://localhost:8080/"
        },
        "id": "tblW8s-pgl5J",
        "outputId": "84565fbd-9756-46b2-846f-0e798895c9f6"
      },
      "outputs": [
        {
          "output_type": "stream",
          "name": "stdout",
          "text": [
            "Qual é o seu nome? Ana Palloma\n",
            "Olá, Ana Palloma! Prazer em te conhecer!\n"
          ]
        }
      ],
      "source": [
        "nome = input('Qual é o seu nome? ')\n",
        "print(f'Olá, {nome}! Prazer em te conhecer!')\n"
      ]
    }
  ]
}