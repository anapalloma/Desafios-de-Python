{
  "nbformat": 4,
  "nbformat_minor": 0,
  "metadata": {
    "colab": {
      "provenance": []
    },
    "kernelspec": {
      "name": "python3",
      "display_name": "Python 3"
    },
    "language_info": {
      "name": "python"
    }
  },
  "cells": [
    {
      "cell_type": "markdown",
      "source": [
        "**Desafio 46** - Faça um programa que mostre na tela uma contagem regressiva para o estouro de fogos de artíficio, indo de 10 até 0, com uma pausa de 1 segundo entre eles."
      ],
      "metadata": {
        "id": "JixfE7kp6i-W"
      }
    },
    {
      "cell_type": "code",
      "execution_count": 7,
      "metadata": {
        "colab": {
          "base_uri": "https://localhost:8080/"
        },
        "id": "j5OlCdkL6cLs",
        "outputId": "9c0f8151-c8d5-4b56-869d-3745d1fbcaeb"
      },
      "outputs": [
        {
          "output_type": "stream",
          "name": "stdout",
          "text": [
            "10\n",
            "9\n",
            "8\n",
            "7\n",
            "6\n",
            "5\n",
            "4\n",
            "3\n",
            "2\n",
            "1\n",
            "0\n",
            "\n",
            "POW! POW! BUUUUUUM\n"
          ]
        }
      ],
      "source": [
        "from time import sleep\n",
        "\n",
        "for c in range(10, -1, -1):\n",
        "  print(c)\n",
        "  sleep(1)\n",
        "print('\\nPOW! POW! BUUUUUUM')\n"
      ]
    }
  ]
}