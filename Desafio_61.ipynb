{
  "nbformat": 4,
  "nbformat_minor": 0,
  "metadata": {
    "colab": {
      "provenance": []
    },
    "kernelspec": {
      "name": "python3",
      "display_name": "Python 3"
    },
    "language_info": {
      "name": "python"
    }
  },
  "cells": [
    {
      "cell_type": "markdown",
      "source": [
        "**Desafio 61** - Refaça o **Desafio 51**, lendo o primeiro termo e a razão de uma PA, mostrando os 10 primeiros termos da progressão usando a estrutura while."
      ],
      "metadata": {
        "id": "MuZaJj1LxUYk"
      }
    },
    {
      "cell_type": "code",
      "execution_count": 5,
      "metadata": {
        "colab": {
          "base_uri": "https://localhost:8080/"
        },
        "id": "qo5NnQh-xOoC",
        "outputId": "b3e315d5-6a26-49c5-ad20-ffb7f1dd8868"
      },
      "outputs": [
        {
          "output_type": "stream",
          "name": "stdout",
          "text": [
            "Primeiro termo: 0\n",
            "Razão: 5\n",
            "0 ⇾ 5 ⇾ 10 ⇾ 15 ⇾ 20 ⇾ 25 ⇾ 30 ⇾ 35 ⇾ 40 ⇾ 45 ⇾ ACABOU!!!!!\n"
          ]
        }
      ],
      "source": [
        "p = int(input('Primeiro termo: '))\n",
        "r = int(input('Razão: '))\n",
        "\n",
        "termo = p\n",
        "\n",
        "count = 10\n",
        "\n",
        "while count > 0:\n",
        "  print(termo, end = ' ⇾ ')\n",
        "  termo += r\n",
        "  count -= 1\n",
        "print('ACABOU!!!!!')\n"
      ]
    }
  ]
}