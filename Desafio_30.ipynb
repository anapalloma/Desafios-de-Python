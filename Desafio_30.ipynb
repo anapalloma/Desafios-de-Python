{
  "nbformat": 4,
  "nbformat_minor": 0,
  "metadata": {
    "colab": {
      "provenance": []
    },
    "kernelspec": {
      "name": "python3",
      "display_name": "Python 3"
    },
    "language_info": {
      "name": "python"
    }
  },
  "cells": [
    {
      "cell_type": "markdown",
      "source": [
        "**Desafio 30** - Crie um programa que leia um número inteiro e mostre na tela se ele é PAR ou ÍMPAR."
      ],
      "metadata": {
        "id": "pjbfQ4ohm9g5"
      }
    },
    {
      "cell_type": "code",
      "execution_count": 3,
      "metadata": {
        "colab": {
          "base_uri": "https://localhost:8080/"
        },
        "id": "zJYR92oTm7To",
        "outputId": "eec018d2-207f-4c9d-eeb9-68176160c3b4"
      },
      "outputs": [
        {
          "output_type": "stream",
          "name": "stdout",
          "text": [
            "Me diga um número qualquer: 14\n",
            "\n",
            "O número 14 é PAR\n"
          ]
        }
      ],
      "source": [
        "num = int(input('Me diga um número qualquer: '))\n",
        "if (num % 2 == 0):\n",
        "  print(f'\\nO número {num} é PAR')\n",
        "else:\n",
        "  print(f'\\nO número {num} é ÍMPAR')\n"
      ]
    }
  ]
}