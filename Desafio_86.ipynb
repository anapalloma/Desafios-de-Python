{
  "nbformat": 4,
  "nbformat_minor": 0,
  "metadata": {
    "colab": {
      "provenance": []
    },
    "kernelspec": {
      "name": "python3",
      "display_name": "Python 3"
    },
    "language_info": {
      "name": "python"
    }
  },
  "cells": [
    {
      "cell_type": "markdown",
      "source": [
        "**Desafio 86** - Crie um programa que crie uma matriz de dimensão 3x3 e preencha com valores lidos pelo teclado. No final, mostre a matriz na tela com a formatação correta."
      ],
      "metadata": {
        "id": "grGygCxwBp-6"
      }
    },
    {
      "cell_type": "code",
      "execution_count": 26,
      "metadata": {
        "colab": {
          "base_uri": "https://localhost:8080/"
        },
        "id": "dZrWaTS6BnK-",
        "outputId": "cdf28eab-c28b-4848-e461-46bb732ee5d5"
      },
      "outputs": [
        {
          "output_type": "stream",
          "name": "stdout",
          "text": [
            "Digite um valor para [0, 0]: 1\n",
            "Digite um valor para [0, 1]: 333\n",
            "Digite um valor para [0, 2]: 2\n",
            "Digite um valor para [1, 0]: 4\n",
            "Digite um valor para [1, 1]: 5\n",
            "Digite um valor para [1, 2]: 6\n",
            "Digite um valor para [2, 0]: 7\n",
            "Digite um valor para [2, 1]: 8\n",
            "Digite um valor para [2, 2]: 999\n",
            "\n",
            "[  1  ][ 333 ][  2  ]\n",
            "[  4  ][  5  ][  6  ]\n",
            "[  7  ][  8  ][ 999 ]\n"
          ]
        }
      ],
      "source": [
        "matriz = [[0,0,0], [0,0,0], [0,0,0]]\n",
        "\n",
        "for l in range(0,3):\n",
        "  for c in range(0,3):\n",
        "    matriz[l][c] = int(input(f'Digite um valor para [{l}, {c}]: '))\n",
        "\n",
        "print()\n",
        "\n",
        "for l in range(0,3):\n",
        "  for c in range(0,3):\n",
        "    print(f'[{matriz[l][c]:^5}]', end = '')\n",
        "  print()\n"
      ]
    }
  ]
}