{
  "nbformat": 4,
  "nbformat_minor": 0,
  "metadata": {
    "colab": {
      "provenance": []
    },
    "kernelspec": {
      "name": "python3",
      "display_name": "Python 3"
    },
    "language_info": {
      "name": "python"
    }
  },
  "cells": [
    {
      "cell_type": "markdown",
      "source": [
        "**Desafio 59** - Crie um programa que leia dois valores e mostre um menu como o abaixo. Seu programa deverá realizar a operação solicitada, em cada caso:\n",
        "\n",
        "[1] somar\n",
        "[2] multiplicar\n",
        "[3] maior\n",
        "[4] novos números\n",
        "[5] sair do programa"
      ],
      "metadata": {
        "id": "Id2ppHvG2BZ8"
      }
    },
    {
      "cell_type": "code",
      "execution_count": 11,
      "metadata": {
        "colab": {
          "base_uri": "https://localhost:8080/"
        },
        "id": "XieKwvPp1_An",
        "outputId": "4f96ece2-bd8e-4969-b00d-580d9bb1c3e3"
      },
      "outputs": [
        {
          "output_type": "stream",
          "name": "stdout",
          "text": [
            "Primeiro valor: 1\n",
            "Segundo valor: 2\n",
            "\n",
            "  [1] somar\n",
            "  [2] multiplicar\n",
            "  [3] maior\n",
            "  [4] novos números\n",
            "  [5] sair do programa\n",
            "\n",
            "Qual é a sua opção? 1\n",
            "A soma de 1 + 2 é 3.\n",
            "-==--==--==--==--==--==--==--==--==--==-\n",
            "\n",
            "  [1] somar\n",
            "  [2] multiplicar\n",
            "  [3] maior\n",
            "  [4] novos números\n",
            "  [5] sair do programa\n",
            "\n",
            "Qual é a sua opção? 2\n",
            "A multiplicação de 1 X 2 é 2.\n",
            "-==--==--==--==--==--==--==--==--==--==-\n",
            "\n",
            "  [1] somar\n",
            "  [2] multiplicar\n",
            "  [3] maior\n",
            "  [4] novos números\n",
            "  [5] sair do programa\n",
            "\n",
            "Qual é a sua opção? 3\n",
            "Entre 1 e 2, o maior valor é 2.\n",
            "-==--==--==--==--==--==--==--==--==--==-\n",
            "\n",
            "  [1] somar\n",
            "  [2] multiplicar\n",
            "  [3] maior\n",
            "  [4] novos números\n",
            "  [5] sair do programa\n",
            "\n",
            "Qual é a sua opção? 4\n",
            "Informe os números novamente:\n",
            "Primeiro valor: 10\n",
            "Segundo valor: 5\n",
            "-==--==--==--==--==--==--==--==--==--==-\n",
            "\n",
            "  [1] somar\n",
            "  [2] multiplicar\n",
            "  [3] maior\n",
            "  [4] novos números\n",
            "  [5] sair do programa\n",
            "\n",
            "Qual é a sua opção? 7\n",
            "Opção inválida. Tente novamente\n",
            "-==--==--==--==--==--==--==--==--==--==-\n",
            "\n",
            "  [1] somar\n",
            "  [2] multiplicar\n",
            "  [3] maior\n",
            "  [4] novos números\n",
            "  [5] sair do programa\n",
            "\n",
            "Qual é a sua opção? 3\n",
            "Entre 10 e 5, o maior valor é 10.\n",
            "-==--==--==--==--==--==--==--==--==--==-\n",
            "\n",
            "  [1] somar\n",
            "  [2] multiplicar\n",
            "  [3] maior\n",
            "  [4] novos números\n",
            "  [5] sair do programa\n",
            "\n",
            "Qual é a sua opção? 5\n",
            "Finalizando...\n",
            "-==--==--==--==--==--==--==--==--==--==-\n",
            "Fim do programa! Volte sempre!\n"
          ]
        }
      ],
      "source": [
        "opcao = None\n",
        "\n",
        "primeiro = int(input('Primeiro valor: '))\n",
        "segundo = int(input('Segundo valor: '))\n",
        "\n",
        "while opcao != 5:\n",
        "  print('''\n",
        "  [1] somar\n",
        "  [2] multiplicar\n",
        "  [3] maior\n",
        "  [4] novos números\n",
        "  [5] sair do programa''')\n",
        "\n",
        "  opcao = int(input('\\nQual é a sua opção? '))\n",
        "\n",
        "  if opcao == 1:\n",
        "    print(f'A soma de {primeiro} + {segundo} é {primeiro + segundo}.')\n",
        "  elif opcao == 2:\n",
        "    print(f'A multiplicação de {primeiro} X {segundo} é {primeiro * segundo}.')\n",
        "  elif opcao == 3:\n",
        "    if primeiro > segundo:\n",
        "      print(f'Entre {primeiro} e {segundo}, o maior valor é {primeiro}.')\n",
        "    else:\n",
        "      print(f'Entre {primeiro} e {segundo}, o maior valor é {segundo}.')\n",
        "  elif opcao == 4:\n",
        "      print('Informe os números novamente:')\n",
        "      primeiro = int(input('Primeiro valor: '))\n",
        "      segundo = int(input('Segundo valor: '))\n",
        "  elif opcao == 5:\n",
        "    print('Finalizando...')\n",
        "  else:\n",
        "    print('Opção inválida. Tente novamente')\n",
        "  print('-==-' * 10)\n",
        "print('Fim do programa! Volte sempre!')\n"
      ]
    }
  ]
}