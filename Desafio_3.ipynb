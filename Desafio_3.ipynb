{
  "nbformat": 4,
  "nbformat_minor": 0,
  "metadata": {
    "colab": {
      "provenance": []
    },
    "kernelspec": {
      "name": "python3",
      "display_name": "Python 3"
    },
    "language_info": {
      "name": "python"
    }
  },
  "cells": [
    {
      "cell_type": "markdown",
      "source": [
        "**DESAFIO 3** - Crie um script em Python que leia dois números e tente mostrar a soma entre eles."
      ],
      "metadata": {
        "id": "Cg9MMpvfhUp0"
      }
    },
    {
      "cell_type": "code",
      "execution_count": 1,
      "metadata": {
        "colab": {
          "base_uri": "https://localhost:8080/"
        },
        "id": "AmOMjGFZhRQz",
        "outputId": "d19fad18-f40f-4e1e-f600-d323e83d08b2"
      },
      "outputs": [
        {
          "output_type": "stream",
          "name": "stdout",
          "text": [
            "Informe o primeiro número: 5\n",
            "Informe o segundo número: 3\n",
            "A soma é 8\n"
          ]
        }
      ],
      "source": [
        "num1 = int(input('Informe o primeiro número: '))\n",
        "num2 = int(input('Informe o segundo número: '))\n",
        "print('A soma é', num1+num2)\n"
      ]
    }
  ]
}