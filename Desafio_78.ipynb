{
  "nbformat": 4,
  "nbformat_minor": 0,
  "metadata": {
    "colab": {
      "provenance": []
    },
    "kernelspec": {
      "name": "python3",
      "display_name": "Python 3"
    },
    "language_info": {
      "name": "python"
    }
  },
  "cells": [
    {
      "cell_type": "markdown",
      "source": [
        "**Desafio 78** - Faça um programa que leia 5 valores numéricos e guarde-os em uma lista.\n",
        "\n",
        "No final, mostre qual foi o maior e o menor valor digitado e as suas respectivas posições na lista."
      ],
      "metadata": {
        "id": "W4L9FucSpfhA"
      }
    },
    {
      "cell_type": "markdown",
      "source": [
        "*Solução 1*"
      ],
      "metadata": {
        "id": "q2JXewc_ZQgs"
      }
    },
    {
      "cell_type": "code",
      "execution_count": 8,
      "metadata": {
        "id": "8PPbIX_apHaj",
        "colab": {
          "base_uri": "https://localhost:8080/"
        },
        "outputId": "8659984f-c9a2-4115-ff2f-635ee59e95fd"
      },
      "outputs": [
        {
          "output_type": "stream",
          "name": "stdout",
          "text": [
            "Digite um valor: 1111\n",
            "Digite um valor: 23\n",
            "Digite um valor: 0\n",
            "Digite um valor: 7\n",
            "Digite um valor: 6\n",
            "\n",
            "Na posição 1 encontrei o 1111, que foi o maior valor digitado.\n",
            "Na posição 3 encontrei o 0, que foi o menor valor digitado.\n"
          ]
        }
      ],
      "source": [
        "lista = []\n",
        "count = 0\n",
        "\n",
        "while count < 5:\n",
        "  num = int(input('Digite um valor: '))\n",
        "  lista.append(num)\n",
        "  count += 1\n",
        "\n",
        "print(f'\\nNa posição {(lista.index(max(lista))) + 1} encontrei o {max(lista)}, que foi o maior valor digitado.')\n",
        "print(f'Na posição {(lista.index(min(lista))) + 1} encontrei o {min(lista)}, que foi o menor valor digitado.')"
      ]
    },
    {
      "cell_type": "markdown",
      "source": [
        "*Solução 2*"
      ],
      "metadata": {
        "id": "cSgBXInlZXrj"
      }
    },
    {
      "cell_type": "code",
      "source": [
        "listanum = []\n",
        "\n",
        "for c in range(0, 5):\n",
        "  listanum.append(int(input(f'Digite um valor para a posição {c}: ')))\n",
        "\n",
        "for p, v in enumerate(listanum):\n",
        "  if v == max(listanum):\n",
        "    print(f'\\nO maior valor digitado foi {v} na posição {p}.')\n",
        "  if v == min(listanum):\n",
        "    print(f'O menor valor digitado foi {v} na posição {p}.')"
      ],
      "metadata": {
        "colab": {
          "base_uri": "https://localhost:8080/"
        },
        "id": "c1yCKULJZahr",
        "outputId": "cd961ddb-8c67-4975-9959-5e63b78d053e"
      },
      "execution_count": 10,
      "outputs": [
        {
          "output_type": "stream",
          "name": "stdout",
          "text": [
            "Digite um valor para a posição 0: 8\n",
            "Digite um valor para a posição 1: 9\n",
            "Digite um valor para a posição 2: 156\n",
            "Digite um valor para a posição 3: -5\n",
            "Digite um valor para a posição 4: 7\n",
            "\n",
            "O maior valor digitado foi 156 na posição 2.\n",
            "O menor valor digitado foi -5 na posição 3.\n"
          ]
        }
      ]
    }
  ]
}