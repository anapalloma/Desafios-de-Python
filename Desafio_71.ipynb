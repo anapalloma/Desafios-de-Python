{
  "nbformat": 4,
  "nbformat_minor": 0,
  "metadata": {
    "colab": {
      "provenance": []
    },
    "kernelspec": {
      "name": "python3",
      "display_name": "Python 3"
    },
    "language_info": {
      "name": "python"
    }
  },
  "cells": [
    {
      "cell_type": "markdown",
      "source": [
        "**Desafio 71** - Crie um programa que simule o funcionamento de um caixa eletrônico. No início, pergunte ao usuário qual será o valor a ser sacado (número inteiro) e o programa vai informar quantas cédulas de cada valor serão entregues.\n",
        "\n",
        "Observação: Considere que o caixa possuí cédulas de cinquenta, vinte, dez e um real."
      ],
      "metadata": {
        "id": "sTNsR5VhJdTL"
      }
    },
    {
      "cell_type": "code",
      "execution_count": 4,
      "metadata": {
        "colab": {
          "base_uri": "https://localhost:8080/"
        },
        "id": "Xz0GD98lJZ2Y",
        "outputId": "851b36ab-6d0d-4b4a-8638-d8df539491c6"
      },
      "outputs": [
        {
          "output_type": "stream",
          "name": "stdout",
          "text": [
            "========================================\n",
            "               BANCO CEV                \n",
            "========================================\n",
            "Qual valor você quer sacar? R$ 1765\n",
            "Total de 35 cédulas de R$ 50\n",
            "Total de 0 cédulas de R$ 20\n",
            "Total de 1 cédulas de R$ 10\n",
            "Total de 5 cédulas de R$ 1\n",
            "========================================\n",
            "Volte sempre ao BANCO CEV! Tenha um bom dia!\n"
          ]
        }
      ],
      "source": [
        "print('='*40)\n",
        "print(f\"{'BANCO CEV':^40}\")\n",
        "print('='*40)\n",
        "\n",
        "valor = int(input('Qual valor você quer sacar? R$ '))\n",
        "print(f'Total de {valor//50} cédulas de R$ 50')\n",
        "print(f'Total de {(valor%50)//20} cédulas de R$ 20')\n",
        "print(f'Total de {((valor%50)%20)//10} cédulas de R$ 10')\n",
        "print(f'Total de {((valor%50)%20)%10} cédulas de R$ 1')\n",
        "print('='*40)\n",
        "print('Volte sempre ao BANCO CEV! Tenha um bom dia!')\n"
      ]
    }
  ]
}