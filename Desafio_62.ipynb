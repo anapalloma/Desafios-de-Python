{
  "cells": [
    {
      "cell_type": "markdown",
      "metadata": {
        "id": "JVMHt_dy0jeV"
      },
      "source": [
        "**Desafio 62** - Melhore o **Desafio 61**, perguntado para o usuário se ele quer mostrar mais alguns termos. O programa encerra quando ele disser que quer mostrar 0 termos."
      ]
    },
    {
      "cell_type": "code",
      "execution_count": 15,
      "metadata": {
        "colab": {
          "base_uri": "https://localhost:8080/"
        },
        "id": "iUlWhToA0hTz",
        "outputId": "79027df4-ff03-4237-d68f-3fb11d3bbc57"
      },
      "outputs": [
        {
          "output_type": "stream",
          "name": "stdout",
          "text": [
            "Primeiro termo: 0\n",
            "Razão: 5\n",
            "0 ⇾ 5 ⇾ 10 ⇾ 15 ⇾ 20 ⇾ 25 ⇾ 30 ⇾ 35 ⇾ 40 ⇾ 45 ⇾ PAUSA\n",
            "\n",
            "Quantos termos você quer mostrar a mais? 5\n",
            "50 ⇾ 55 ⇾ 60 ⇾ 65 ⇾ 70 ⇾ PAUSA\n",
            "\n",
            "Quantos termos você quer mostrar a mais? 10\n",
            "75 ⇾ 80 ⇾ 85 ⇾ 90 ⇾ 95 ⇾ 100 ⇾ 105 ⇾ 110 ⇾ 115 ⇾ 120 ⇾ PAUSA\n",
            "\n",
            "Quantos termos você quer mostrar a mais? 2\n",
            "125 ⇾ 130 ⇾ PAUSA\n",
            "\n",
            "Quantos termos você quer mostrar a mais? 0\n",
            "\n",
            "Progressão finalizada com 27 termos mostrados.\n"
          ]
        }
      ],
      "source": [
        "primeiro = int(input('Primeiro termo: '))\n",
        "razao = int(input('Razão: '))\n",
        "\n",
        "termo = primeiro\n",
        "count = 1\n",
        "total = 0\n",
        "extra = 10\n",
        "\n",
        "while extra != 0:\n",
        "  total += extra\n",
        "  while count <= total:\n",
        "    print(termo, end = ' ⇾ ')\n",
        "    termo += razao\n",
        "    count += 1\n",
        "  print('PAUSA')\n",
        "  extra = int(input('\\nQuantos termos você quer mostrar a mais? '))\n",
        "print(f'\\nProgressão finalizada com {total} termos mostrados.')\n"
      ]
    }
  ],
  "metadata": {
    "colab": {
      "provenance": []
    },
    "kernelspec": {
      "display_name": "Python 3",
      "name": "python3"
    },
    "language_info": {
      "name": "python"
    }
  },
  "nbformat": 4,
  "nbformat_minor": 0
}