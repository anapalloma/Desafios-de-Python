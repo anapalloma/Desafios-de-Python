{
  "nbformat": 4,
  "nbformat_minor": 0,
  "metadata": {
    "colab": {
      "provenance": []
    },
    "kernelspec": {
      "name": "python3",
      "display_name": "Python 3"
    },
    "language_info": {
      "name": "python"
    }
  },
  "cells": [
    {
      "cell_type": "markdown",
      "source": [
        "**Desafio 54** - Crie um programa que leia o ano de nascimento de sete pessoas. No final, mostre quantas pessoas ainda não atingiram a maioridade e quantas já são maiores."
      ],
      "metadata": {
        "id": "3Fp4-E93VLGT"
      }
    },
    {
      "cell_type": "code",
      "execution_count": 5,
      "metadata": {
        "colab": {
          "base_uri": "https://localhost:8080/"
        },
        "id": "dtTEEAnoVIIZ",
        "outputId": "01a27548-3f4c-4acc-f4bb-12aee1502168"
      },
      "outputs": [
        {
          "output_type": "stream",
          "name": "stdout",
          "text": [
            "Em que ano a 1º pessoa nasceu? 1993\n",
            "Em que ano a 2º pessoa nasceu? 2010\n",
            "Em que ano a 3º pessoa nasceu? 2013\n",
            "Em que ano a 4º pessoa nasceu? 2002\n",
            "Em que ano a 5º pessoa nasceu? 1995\n",
            "Em que ano a 6º pessoa nasceu? 2015\n",
            "Em que ano a 7º pessoa nasceu? 1988\n",
            "\n",
            "Ao todo tivemos 4 pessoas maiores de idade\n",
            "E também tivemos 3 pessoas menores de idade\n"
          ]
        }
      ],
      "source": [
        "from datetime import date\n",
        "\n",
        "atual = date.today().year\n",
        "\n",
        "maiores = 0\n",
        "menores = 0\n",
        "\n",
        "for p in range(1, 8):\n",
        "  ano = int(input(f'Em que ano a {p}º pessoa nasceu? '))\n",
        "  if (atual - ano) >= 18:\n",
        "    maiores += 1\n",
        "  else:\n",
        "    menores += 1\n",
        "\n",
        "print(f'\\nAo todo tivemos {maiores} pessoas maiores de idade')\n",
        "print(f'E também tivemos {menores} pessoas menores de idade')"
      ]
    }
  ]
}