{
  "nbformat": 4,
  "nbformat_minor": 0,
  "metadata": {
    "colab": {
      "provenance": []
    },
    "kernelspec": {
      "name": "python3",
      "display_name": "Python 3"
    },
    "language_info": {
      "name": "python"
    }
  },
  "cells": [
    {
      "cell_type": "markdown",
      "source": [
        "**Desafio 18** - Faça um programa que leia um ângulo qualquer e mostre na tela o valor do seno, cosseno e tangente desse ângulo."
      ],
      "metadata": {
        "id": "4XqhZ8bHI0MV"
      }
    },
    {
      "cell_type": "code",
      "execution_count": 12,
      "metadata": {
        "colab": {
          "base_uri": "https://localhost:8080/"
        },
        "id": "cBtcGYnjIx_a",
        "outputId": "1241ece1-3b75-45cb-8e7f-b0bef035d031"
      },
      "outputs": [
        {
          "output_type": "stream",
          "name": "stdout",
          "text": [
            "Digite o ângulo que você deseja: 30\n",
            "O ângulo de 30.0 tem o SENO de 0.50\n",
            "O ângulo de 30.0 tem o COSSENO de 0.87\n",
            "O ângulo de 30.0 tem a TANGENTE de 0.58.\n"
          ]
        }
      ],
      "source": [
        "import math\n",
        "\n",
        "angulo = float(input('Digite o ângulo que você deseja: '))\n",
        "seno = math.sin(math.radians(angulo))\n",
        "cosseno = math.cos(math.radians(angulo))\n",
        "tangente = math.tan(math.radians(angulo))\n",
        "print(f'O ângulo de {angulo} tem o SENO de {seno:.2f}\\nO ângulo de {angulo} tem o COSSENO de {cosseno:.2f}\\nO ângulo de {angulo} tem a TANGENTE de {tangente:.2f}.')\n"
      ]
    }
  ]
}