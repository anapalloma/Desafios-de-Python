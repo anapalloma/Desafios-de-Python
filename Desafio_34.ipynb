{
  "nbformat": 4,
  "nbformat_minor": 0,
  "metadata": {
    "colab": {
      "provenance": []
    },
    "kernelspec": {
      "name": "python3",
      "display_name": "Python 3"
    },
    "language_info": {
      "name": "python"
    }
  },
  "cells": [
    {
      "cell_type": "markdown",
      "source": [
        "**Desafio 34** - Escreva um programa que pergunte o salário do funcionário e escreva o valor do seu aumento. Para salários superiores a R$ 1.250,00 calcule um aumento de 10%. Para os inferiores ou iguais, o aumento é de 15%."
      ],
      "metadata": {
        "id": "pZlsG3SAXe_x"
      }
    },
    {
      "cell_type": "code",
      "execution_count": 5,
      "metadata": {
        "colab": {
          "base_uri": "https://localhost:8080/"
        },
        "id": "c52BTGQKXc8t",
        "outputId": "9dbe94db-77db-4c37-cf93-15c32aeb30d6"
      },
      "outputs": [
        {
          "output_type": "stream",
          "name": "stdout",
          "text": [
            "Qual é o salário do funcionário? R$ 900\n",
            "Quem ganhava R$ 900.00 passa a ganhar R$ 1035.00 agora.\n"
          ]
        }
      ],
      "source": [
        "salario = float(input('Qual é o salário do funcionário? R$ '))\n",
        "if (salario > 1250):\n",
        "  print(f'Quem ganhava R$ {salario:.2f} passa a ganhar R$ {(salario * 1.10):.2f} agora.')\n",
        "else:\n",
        "  print(f'Quem ganhava R$ {salario:.2f} passa a ganhar R$ {(salario * 1.15):.2f} agora.')\n"
      ]
    }
  ]
}