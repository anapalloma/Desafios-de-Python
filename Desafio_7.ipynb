{
  "nbformat": 4,
  "nbformat_minor": 0,
  "metadata": {
    "colab": {
      "provenance": []
    },
    "kernelspec": {
      "name": "python3",
      "display_name": "Python 3"
    },
    "language_info": {
      "name": "python"
    }
  },
  "cells": [
    {
      "cell_type": "markdown",
      "source": [
        "**Desafio 7** - Desenvolva um programa que leia 2 notas de um aluno, calcule e mostre a sua média."
      ],
      "metadata": {
        "id": "6DCdBWI7hEuB"
      }
    },
    {
      "cell_type": "code",
      "execution_count": 2,
      "metadata": {
        "colab": {
          "base_uri": "https://localhost:8080/"
        },
        "id": "GSleSpFVhBPc",
        "outputId": "c3de33bd-3467-406a-fffd-bf76b74f8c10"
      },
      "outputs": [
        {
          "output_type": "stream",
          "name": "stdout",
          "text": [
            "Informe a primeira nota: 60.8\n",
            "Informe a segunda nota: 75\n",
            "A nota média do aluno é 67.9!\n"
          ]
        }
      ],
      "source": [
        "n1 = float(input('Informe a primeira nota: '))\n",
        "n2 = float(input('Informe a segunda nota: '))\n",
        "print(f'A nota média do aluno é {(n1+n2)/2}!')\n"
      ]
    }
  ]
}