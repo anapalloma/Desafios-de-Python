{
  "nbformat": 4,
  "nbformat_minor": 0,
  "metadata": {
    "colab": {
      "provenance": []
    },
    "kernelspec": {
      "name": "python3",
      "display_name": "Python 3"
    },
    "language_info": {
      "name": "python"
    }
  },
  "cells": [
    {
      "cell_type": "markdown",
      "source": [
        "**Desafio 72** - Crie um programa que tenha uma tupla totalmente preenchida com uma contagem por extenso de 0 até 20.\n",
        "\n",
        "Seu programa deverá ler um número pelo teclado (entre 0 e 20) e mostrá-lo por extenso."
      ],
      "metadata": {
        "id": "2uZ7_PxnOJHY"
      }
    },
    {
      "cell_type": "code",
      "execution_count": 23,
      "metadata": {
        "colab": {
          "base_uri": "https://localhost:8080/"
        },
        "id": "9ty7pZDBOHHJ",
        "outputId": "f80b82d3-33a0-4b16-f9d3-ed0272146a09"
      },
      "outputs": [
        {
          "output_type": "stream",
          "name": "stdout",
          "text": [
            "Digite um número entre 0 e 20: -15\n",
            "Digite um número entre 0 e 20: 78\n",
            "Digite um número entre 0 e 20: 12\n",
            "\n",
            "O número 12 por extenso é doze.\n"
          ]
        }
      ],
      "source": [
        "tupla = ('zero', 'um', 'dois', 'três','quatro','cinco','seis','sete','oito','nove','dez','onze', 'doze', 'treze', 'quatorze', 'quinze', 'dezesseis', 'dezessete', 'dezoito','dezenove', 'vinte')\n",
        "\n",
        "num = ' '\n",
        "while num not in range(0, 20):\n",
        "  num = int(input('Digite um número entre 0 e 20: '))\n",
        "print(f'\\nO número {num} por extenso é {tupla[num]}.')\n"
      ]
    }
  ]
}