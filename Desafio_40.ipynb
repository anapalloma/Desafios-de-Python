{
  "nbformat": 4,
  "nbformat_minor": 0,
  "metadata": {
    "colab": {
      "provenance": []
    },
    "kernelspec": {
      "name": "python3",
      "display_name": "Python 3"
    },
    "language_info": {
      "name": "python"
    }
  },
  "cells": [
    {
      "cell_type": "markdown",
      "source": [
        "**Desafio 40** - Crie um programa que leia duas notas de um aluno e calcule sua média, mostrando uma mensagem no final, de acordo com a média atingida:\n",
        "- Média abaixo de 5.0: REPROVADO\n",
        "- Média entre 5.0 e 6.9: RECUPERAÇÃO\n",
        "- Média 7.0 ou superior: APROVADO"
      ],
      "metadata": {
        "id": "ukpOZMzOe13N"
      }
    },
    {
      "cell_type": "code",
      "execution_count": 4,
      "metadata": {
        "colab": {
          "base_uri": "https://localhost:8080/"
        },
        "id": "wLFBMekBey6W",
        "outputId": "9ec752e6-330d-4591-9196-82bab3f5f037"
      },
      "outputs": [
        {
          "output_type": "stream",
          "name": "stdout",
          "text": [
            "Primeira nota: 6.5\n",
            "Segunda nota: 5\n",
            "\n",
            "Tirando 6.5 e 5.0 a média do aluno é 5.8\n",
            "O aluno está em RECUPERAÇÃO!\n"
          ]
        }
      ],
      "source": [
        "n1 = float(input('Primeira nota: '))\n",
        "n2 = float(input('Segunda nota: '))\n",
        "media = (n1+n2)/2\n",
        "print(f'\\nTirando {n1:.1f} e {n2:.1f} a média do aluno é {media:.1f}')\n",
        "\n",
        "if (media < 5):\n",
        "  print('O aluno está REPROVADO!')\n",
        "elif (media > 5.0) and (media < 7):\n",
        "  print('O aluno está em RECUPERAÇÃO!')\n",
        "else:\n",
        "  print('O aluno está APROVADO!')\n"
      ]
    }
  ]
}