{
  "nbformat": 4,
  "nbformat_minor": 0,
  "metadata": {
    "colab": {
      "provenance": []
    },
    "kernelspec": {
      "name": "python3",
      "display_name": "Python 3"
    },
    "language_info": {
      "name": "python"
    }
  },
  "cells": [
    {
      "cell_type": "markdown",
      "source": [
        "**Desafio 88** - Faça um programa que ajude um jogador da MEGA SENA a criar palpites. O programa vai perguntar quantos jogos serão gerados e vai sortear 6 números entre 1 e 60 para cada jogo, cadastrando tudo em uma lista composta."
      ],
      "metadata": {
        "id": "hzsGT4uhyEZ6"
      }
    },
    {
      "cell_type": "code",
      "execution_count": 75,
      "metadata": {
        "id": "KCuCPwngx_uX",
        "colab": {
          "base_uri": "https://localhost:8080/"
        },
        "outputId": "50426698-dc79-4096-932b-d4ef0a3353ee"
      },
      "outputs": [
        {
          "output_type": "stream",
          "name": "stdout",
          "text": [
            "----------------------------------------\n",
            "           JOGA NA MEGA SENA            \n",
            "----------------------------------------\n",
            "Quantos jogos você quer que eu sorteie? 10\n",
            "---------- SORTEANDO 10 jogos ----------\n",
            "Jogo 1: [11, 21, 36, 38, 47, 54]\n",
            "Jogo 2: [3, 8, 16, 25, 32, 33]\n",
            "Jogo 3: [14, 22, 33, 36, 46, 56]\n",
            "Jogo 4: [2, 11, 13, 16, 26, 48]\n",
            "Jogo 5: [8, 18, 29, 31, 42, 46]\n",
            "Jogo 6: [9, 20, 23, 32, 48, 52]\n",
            "Jogo 7: [9, 20, 22, 49, 53, 59]\n",
            "Jogo 8: [8, 9, 19, 32, 36, 40]\n",
            "Jogo 9: [10, 15, 27, 47, 52, 56]\n",
            "Jogo 10: [3, 9, 20, 35, 40, 57]\n",
            "============ < BOA SORTE! > ============\n"
          ]
        }
      ],
      "source": [
        "from random import randint\n",
        "\n",
        "apostas = []\n",
        "dados = []\n",
        "\n",
        "print('-'*40)\n",
        "print(f\"{'JOGA NA MEGA SENA':^40}\")\n",
        "print('-'*40)\n",
        "\n",
        "jogos = int(input('Quantos jogos você quer que eu sorteie? '))\n",
        "\n",
        "print(f\"{' SORTEANDO ' + str(jogos) + ' jogos ':-^40}\")\n",
        "\n",
        "while len(apostas)-1 < jogos:\n",
        "  while len(dados) < 6:\n",
        "    num = randint(1,60)\n",
        "    if num not in dados:\n",
        "      dados.append(num)\n",
        "  apostas.append(dados[:])\n",
        "  dados.clear()\n",
        "\n",
        "\n",
        "for i in range(1, len(apostas)):\n",
        "  print(f'Jogo {i}:', sorted(apostas[i]))\n",
        "\n",
        "print(f\"{' < BOA SORTE! > ':=^40}\")\n"
      ]
    }
  ]
}