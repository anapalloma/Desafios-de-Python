{
  "nbformat": 4,
  "nbformat_minor": 0,
  "metadata": {
    "colab": {
      "provenance": []
    },
    "kernelspec": {
      "name": "python3",
      "display_name": "Python 3"
    },
    "language_info": {
      "name": "python"
    }
  },
  "cells": [
    {
      "cell_type": "markdown",
      "source": [
        "**Desafio 93** - Crie um programa que gerencie o aproveitamento de um jogador de futebol. O programa vai ler o nome do jogador e quantas partidas ele jogou. Depois vai ler a quantidade de gols feitos em cada partida. No final, tudo isso será guardado em um dicionário, incluindo o total de gols feitos durante o campeonato."
      ],
      "metadata": {
        "id": "2ZXTs9prRnMa"
      }
    },
    {
      "cell_type": "code",
      "execution_count": 13,
      "metadata": {
        "colab": {
          "base_uri": "https://localhost:8080/"
        },
        "id": "WvRlntNyRi4n",
        "outputId": "d234df2f-3dda-41cb-8891-2ca9f07e95cd"
      },
      "outputs": [
        {
          "output_type": "stream",
          "name": "stdout",
          "text": [
            "Nome do Jogador: Zico\n",
            "Quantas partidas Zico jogou? 4\n",
            "Quantos gols na partida 0? 3\n",
            "Quantos gols na partida 1? 1\n",
            "Quantos gols na partida 2? 5\n",
            "Quantos gols na partida 3? 0\n",
            "-=--=--=--=--=--=--=--=--=--=--=--=--=--=--=--=--=--=--=--=--=--=--=--=--=--=--=--=--=--=-\n",
            "{'Nome': 'Zico', 'Gols': [3, 1, 5, 0], 'Total': 9}\n",
            "-=--=--=--=--=--=--=--=--=--=--=--=--=--=--=--=--=--=--=--=--=--=--=--=--=--=--=--=--=--=-\n",
            "O campo Nome tem o valor Zico.\n",
            "O campo Gols tem o valor [3, 1, 5, 0].\n",
            "O campo Total tem o valor 9.\n",
            "-=--=--=--=--=--=--=--=--=--=--=--=--=--=--=--=--=--=--=--=--=--=--=--=--=--=--=--=--=--=-\n",
            "O jogador Zico jogou 4 partidas.\n",
            "    => Na partida 0, fez 3 gols.\n",
            "    => Na partida 1, fez 1 gols.\n",
            "    => Na partida 2, fez 5 gols.\n",
            "    => Na partida 3, fez 0 gols.\n",
            "Foi um total de 9 gols.\n"
          ]
        }
      ],
      "source": [
        "dados = dict()\n",
        "gols = list()\n",
        "cont = 0\n",
        "\n",
        "dados['Nome'] = str(input('Nome do Jogador: '))\n",
        "partidas = int(input(f\"Quantas partidas {dados['Nome']} jogou? \"))\n",
        "while partidas > cont:\n",
        "  pergunta = int(input(f'Quantos gols na partida {cont}? '))\n",
        "  gols.append(pergunta)\n",
        "  cont += 1\n",
        "\n",
        "print('-=-'*30)\n",
        "dados['Gols'] = gols\n",
        "dados['Total'] = sum(gols)\n",
        "print(dados)\n",
        "print('-=-'*30)\n",
        "\n",
        "for k, v in dados.items():\n",
        "  print(f'O campo {k} tem o valor {v}.')\n",
        "print('-=-'*30)\n",
        "\n",
        "print(f\"O jogador {dados['Nome']} jogou {partidas} partidas.\")\n",
        "for i in range(0, len(gols)):\n",
        "  print(f'    => Na partida {i}, fez {gols[i]} gols.')\n",
        "print(f\"Foi um total de {dados['Total']} gols.\")\n"
      ]
    }
  ]
}