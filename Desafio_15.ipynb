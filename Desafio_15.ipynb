{
  "nbformat": 4,
  "nbformat_minor": 0,
  "metadata": {
    "colab": {
      "provenance": []
    },
    "kernelspec": {
      "name": "python3",
      "display_name": "Python 3"
    },
    "language_info": {
      "name": "python"
    }
  },
  "cells": [
    {
      "cell_type": "markdown",
      "source": [
        "**Desafio 15** - Escreva um programa que pergunte a quantidade de km percorridos por um carro alugado e a quantidade de dias pelos quais ele foi alugado. Calcule o preço a pagar, sabendo que a diária do carro custa sessenta reais e cada quilometro rodado custa R$ 0,15."
      ],
      "metadata": {
        "id": "7Icsdfmaxp1n"
      }
    },
    {
      "cell_type": "code",
      "execution_count": 1,
      "metadata": {
        "colab": {
          "base_uri": "https://localhost:8080/"
        },
        "id": "gi3RkDEHxnfo",
        "outputId": "dc66caee-1129-44a8-d448-f65646aad017"
      },
      "outputs": [
        {
          "output_type": "stream",
          "name": "stdout",
          "text": [
            "Por quantos dias o carro foi alugado? 8\n",
            "Quantos quilometros foram rodados? 720\n",
            "O total a pagar é de R$ 588.00\n"
          ]
        }
      ],
      "source": [
        "dias = int(input('Por quantos dias o carro foi alugado? '))\n",
        "km = float(input('Quantos quilometros foram rodados? '))\n",
        "preco = (dias*60)+(km*0.15)\n",
        "print(f'O total a pagar é de R$ {preco:.2f}')\n"
      ]
    }
  ]
}