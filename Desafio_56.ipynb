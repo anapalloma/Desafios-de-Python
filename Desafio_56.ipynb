{
  "nbformat": 4,
  "nbformat_minor": 0,
  "metadata": {
    "colab": {
      "provenance": []
    },
    "kernelspec": {
      "name": "python3",
      "display_name": "Python 3"
    },
    "language_info": {
      "name": "python"
    }
  },
  "cells": [
    {
      "cell_type": "markdown",
      "source": [
        "**Desafio 56** - Desenvolva um programa que leia o nome, idade e sexo de 4 pessoas. No final do programa, mostre:\n",
        "- A média de idade do grupo;\n",
        "- Qual é o nome do homem mais velho;\n",
        "- Quantas mulheres têm menos de 20 anos."
      ],
      "metadata": {
        "id": "cW09uiZxej7M"
      }
    },
    {
      "cell_type": "code",
      "execution_count": 22,
      "metadata": {
        "colab": {
          "base_uri": "https://localhost:8080/"
        },
        "id": "PM5565jzeg3R",
        "outputId": "9e3f6bca-965e-49a2-daf5-4b6e7cb88c7a"
      },
      "outputs": [
        {
          "output_type": "stream",
          "name": "stdout",
          "text": [
            "\n",
            "===== 1º PESSOA =====\n",
            "Nome: Maria\n",
            "Idade: 99\n",
            "Sexo [M/F]: F\n",
            "\n",
            "===== 2º PESSOA =====\n",
            "Nome: Pedro\n",
            "Idade: 12\n",
            "Sexo [M/F]: M\n",
            "\n",
            "===== 3º PESSOA =====\n",
            "Nome: Claudia\n",
            "Idade: 85\n",
            "Sexo [M/F]: F\n",
            "\n",
            "===== 4º PESSOA =====\n",
            "Nome: João\n",
            "Idade: 22\n",
            "Sexo [M/F]: M\n",
            "\n",
            "A idade média do grupo é 54.5 anos.\n",
            "O homem mais experiente tem 22 anos. Seu nome é JOÃO.\n",
            "Existem 0 mulheres com menos de 20 anos no grupo.\n"
          ]
        }
      ],
      "source": [
        "from statistics import mean\n",
        "\n",
        "pessoas = [] # Lista vazia\n",
        "jovens = 0\n",
        "senior = None\n",
        "idade_senior = -1\n",
        "\n",
        "for p in range (1, 5):\n",
        "  pessoa = {} # Dicionário vazio\n",
        "\n",
        "  print(f'\\n===== {p}º PESSOA =====')\n",
        "  pessoa['nome'] = str(input('Nome: ')).strip().upper()\n",
        "  pessoa['idade'] = int(input('Idade: '))\n",
        "  pessoa ['sexo'] = str(input('Sexo [M/F]: ')).strip().upper()\n",
        "\n",
        "  pessoas.append(pessoa)\n",
        "\n",
        "# Idade Média\n",
        "media = mean(pessoa['idade'] for pessoa in pessoas)\n",
        "print(f'\\nA idade média do grupo é {media:.1f} anos.')\n",
        "\n",
        "# O nome do homem mais velho\n",
        "for pessoa in pessoas:\n",
        "  if pessoa['sexo'] == 'M':\n",
        "    if pessoa['idade'] > idade_senior:\n",
        "      senior = pessoa['nome']\n",
        "      idade_senior = pessoa['idade']\n",
        "print(f'O homem mais experiente tem {idade_senior} anos. Seu nome é {senior}.')\n",
        "\n",
        "\n",
        "# Quantas mulheres têm menos de 20 anos\n",
        "for pessoa in pessoas:\n",
        "  if(pessoa['sexo'] == 'F'):\n",
        "    if(pessoa['idade'] < 20):\n",
        "      jovens += 1\n",
        "print(f'Existem {jovens} mulheres com menos de 20 anos no grupo.')\n"
      ]
    },
    {
      "cell_type": "code",
      "source": [],
      "metadata": {
        "id": "NTq4Ye9cbi18"
      },
      "execution_count": null,
      "outputs": []
    },
    {
      "cell_type": "code",
      "source": [],
      "metadata": {
        "id": "A2Vc3G0eg00z"
      },
      "execution_count": null,
      "outputs": []
    }
  ]
}