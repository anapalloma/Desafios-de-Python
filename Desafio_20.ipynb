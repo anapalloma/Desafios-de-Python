{
  "nbformat": 4,
  "nbformat_minor": 0,
  "metadata": {
    "colab": {
      "provenance": []
    },
    "kernelspec": {
      "name": "python3",
      "display_name": "Python 3"
    },
    "language_info": {
      "name": "python"
    }
  },
  "cells": [
    {
      "cell_type": "markdown",
      "source": [
        "**Desafio 20** - O mesmo professor do desafio anterior quer sortear a ordem de apresentação de trabalho dos alunos. Faça um programa que leia o nome dos quatros alunos e mostre a ordem sorteada."
      ],
      "metadata": {
        "id": "z6UZZJgMP2fs"
      }
    },
    {
      "cell_type": "code",
      "execution_count": 13,
      "metadata": {
        "colab": {
          "base_uri": "https://localhost:8080/"
        },
        "id": "vqMl-w85PzSi",
        "outputId": "8078fa37-e71c-4fb7-d1be-0f8f2caf93eb"
      },
      "outputs": [
        {
          "output_type": "stream",
          "name": "stdout",
          "text": [
            "Primeiro aluno: Caroline\n",
            "Segundo aluno: Silvana\n",
            "Terceiro aluno: Joaquina\n",
            "Quarto aluno: José\n",
            "\n",
            "A ordem de apresentação será ['Silvana', 'José', 'Caroline', 'Joaquina']\n"
          ]
        }
      ],
      "source": [
        "import random\n",
        "\n",
        "a1 = str(input('Primeiro aluno: '))\n",
        "a2 = str(input('Segundo aluno: '))\n",
        "a3 = str(input('Terceiro aluno: '))\n",
        "a4 = str(input('Quarto aluno: '))\n",
        "lista = [a1, a2, a3, a4]\n",
        "random.shuffle(lista)\n",
        "\n",
        "print(f'\\nA ordem de apresentação será {lista}')\n"
      ]
    }
  ]
}