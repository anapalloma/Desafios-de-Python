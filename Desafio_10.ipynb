{
  "nbformat": 4,
  "nbformat_minor": 0,
  "metadata": {
    "colab": {
      "provenance": []
    },
    "kernelspec": {
      "name": "python3",
      "display_name": "Python 3"
    },
    "language_info": {
      "name": "python"
    }
  },
  "cells": [
    {
      "cell_type": "markdown",
      "source": [
        "**Desafio 10** - Crie um programa que leia quanto dinheiro uma pessoa tem na carteira e mostre quantos dólares ela pode comprar.\n",
        "\n",
        "Considere U$$ 1.00 = R$ 3.27"
      ],
      "metadata": {
        "id": "Ngp9IVvGhaPt"
      }
    },
    {
      "cell_type": "code",
      "execution_count": 4,
      "metadata": {
        "colab": {
          "base_uri": "https://localhost:8080/"
        },
        "id": "okdY37Sdg2PO",
        "outputId": "80d35e7f-ef35-45dc-872b-0b3d83b5b165"
      },
      "outputs": [
        {
          "output_type": "stream",
          "name": "stdout",
          "text": [
            "Quantos dinheiro você tem na carteira? R$ 50\n",
            "Com esse valor, você pode comprar U$$ 15.29\n"
          ]
        }
      ],
      "source": [
        "carteira = float(input('Quantos dinheiro você tem na carteira? R$ '))\n",
        "print(f'Com esse valor, você pode comprar U$$ {(carteira/3.27):.2f}')\n"
      ]
    }
  ]
}