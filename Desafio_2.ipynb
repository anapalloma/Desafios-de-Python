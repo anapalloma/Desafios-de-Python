{
  "nbformat": 4,
  "nbformat_minor": 0,
  "metadata": {
    "colab": {
      "provenance": []
    },
    "kernelspec": {
      "name": "python3",
      "display_name": "Python 3"
    },
    "language_info": {
      "name": "python"
    }
  },
  "cells": [
    {
      "cell_type": "markdown",
      "source": [
        "**DESAFIO 2** - Crie um script em Python que leia o dia, o mês e o ano de nascimento de uma pessoa e mostre uma mensagem com a data formatada."
      ],
      "metadata": {
        "id": "5lpOGookg_IE"
      }
    },
    {
      "cell_type": "code",
      "execution_count": 1,
      "metadata": {
        "colab": {
          "base_uri": "https://localhost:8080/"
        },
        "id": "KBfhOShXg7RF",
        "outputId": "be828801-e45d-4ecf-9977-00d008cb95b8"
      },
      "outputs": [
        {
          "output_type": "stream",
          "name": "stdout",
          "text": [
            "Em qual dia você nasceu? 21\n",
            "Em qual mês você nasceu? janeiro\n",
            "Em qual ano você nasceu? 1993\n",
            "Você nasceu no 21 de janeiro de 1993. Correto?\n"
          ]
        }
      ],
      "source": [
        "dia = input('Em qual dia você nasceu? ')\n",
        "mes = input('Em qual mês você nasceu? ')\n",
        "ano = input('Em qual ano você nasceu? ')\n",
        "print(f'Você nasceu no {dia} de {mes} de {ano}. Correto?')\n"
      ]
    }
  ]
}