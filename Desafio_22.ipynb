{
  "nbformat": 4,
  "nbformat_minor": 0,
  "metadata": {
    "colab": {
      "provenance": []
    },
    "kernelspec": {
      "name": "python3",
      "display_name": "Python 3"
    },
    "language_info": {
      "name": "python"
    }
  },
  "cells": [
    {
      "cell_type": "markdown",
      "source": [
        "**Desafio 22** - Crie um programa que leia o nome completo de uma pessoa e mostre:\n",
        "- O nome com todas as letras maiúsculas;\n",
        "- O nome com todas as letras minúsculas;\n",
        "- Quantas letras ao todo (sem considerar espaços);\n",
        "- Quantas letras tem o primeiro nome.\n"
      ],
      "metadata": {
        "id": "NT--tQLbI4Mn"
      }
    },
    {
      "cell_type": "code",
      "execution_count": 11,
      "metadata": {
        "colab": {
          "base_uri": "https://localhost:8080/"
        },
        "id": "upPFANxmIz8j",
        "outputId": "f9b0533e-6bc7-42cb-fc9d-150e153d1b20"
      },
      "outputs": [
        {
          "output_type": "stream",
          "name": "stdout",
          "text": [
            "Digite seu nome completo: Ana Palloma Rocha Fernandes\n",
            "Seu nome em maiúsculas é ANA PALLOMA ROCHA FERNANDES\n",
            "Seu nome em minúsculas é ana palloma rocha fernandes\n",
            "Seu nome tem ao todo 24 letras\n",
            "Seu primero nome é Ana e ele tem 3 letras\n"
          ]
        }
      ],
      "source": [
        "nome = str(input('Digite seu nome completo: '))\n",
        "print(f'Seu nome em maiúsculas é {nome.upper()}')\n",
        "print(f'Seu nome em minúsculas é {nome.lower()}')\n",
        "print(f\"Seu nome tem ao todo {len(nome) - nome.count(' ')} letras\")\n",
        "separa = nome.split()\n",
        "print(f\"Seu primero nome é {separa[0]} e ele tem {len(separa[0])} letras\")\n"
      ]
    }
  ]
}