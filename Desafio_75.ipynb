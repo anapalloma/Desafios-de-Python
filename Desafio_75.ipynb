{
  "nbformat": 4,
  "nbformat_minor": 0,
  "metadata": {
    "colab": {
      "provenance": []
    },
    "kernelspec": {
      "name": "python3",
      "display_name": "Python 3"
    },
    "language_info": {
      "name": "python"
    }
  },
  "cells": [
    {
      "cell_type": "markdown",
      "source": [
        "**Desafio 75** - Desenvolva um programa que leia 4 valores pelo teclado e guarde-os em uma tupla. No final, mostre:\n",
        "\n",
        "- Quantas vezes apareceu o valor 9.\n",
        "- Em que posição foi digitado o primeiro valor 3.\n",
        "- Quais foram os números pares."
      ],
      "metadata": {
        "id": "P_w6gMI8jxmR"
      }
    },
    {
      "cell_type": "code",
      "execution_count": 9,
      "metadata": {
        "colab": {
          "base_uri": "https://localhost:8080/"
        },
        "id": "69o4J0qLjuwH",
        "outputId": "c5478197-8b6a-4864-cc42-0efb2f6923a1"
      },
      "outputs": [
        {
          "output_type": "stream",
          "name": "stdout",
          "text": [
            "Digite um número: 3\n",
            "Digite outro número: 7\n",
            "Digite mais um número: 8\n",
            "Digite o último número: 4\n",
            "\n",
            "O primeiro valor 3 foi digitado na 1º posição.\n",
            "Os números pares foram [8, 4]\n"
          ]
        }
      ],
      "source": [
        "nove = 0\n",
        "pares = []\n",
        "\n",
        "numeros = (\n",
        "        int(input('Digite um número: ')),\n",
        "        int (input('Digite outro número: ')),\n",
        "        int (input('Digite mais um número: ')),\n",
        "        int (input('Digite o último número: '))\n",
        ")\n",
        "\n",
        "for i in range(0, len(numeros)):\n",
        "  if numeros[i] == 9:\n",
        "    nove += 1\n",
        "  if numeros[i] % 2 == 0:\n",
        "    pares.append(numeros[i])\n",
        "\n",
        "if 9 in numeros:\n",
        "  print(f'\\nO valor 9 apareceu {nove} vez(es).')\n",
        "if 3 in numeros:\n",
        "  print(f'\\nO primeiro valor 3 foi digitado na {(numeros.index(3))+1}º posição.')\n",
        "if len(pares) > 0:\n",
        "  print(f'Os números pares foram {pares}')\n"
      ]
    }
  ]
}