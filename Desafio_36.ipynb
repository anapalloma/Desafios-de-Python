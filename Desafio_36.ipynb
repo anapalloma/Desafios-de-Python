{
  "nbformat": 4,
  "nbformat_minor": 0,
  "metadata": {
    "colab": {
      "provenance": []
    },
    "kernelspec": {
      "name": "python3",
      "display_name": "Python 3"
    },
    "language_info": {
      "name": "python"
    }
  },
  "cells": [
    {
      "cell_type": "markdown",
      "source": [
        "**Desafio 36** - Escreva um programa para aprovar o empréstimo bancário para a compra de uma casa. Pergunte o valor da casa, o salário do comprador e em quantos anos ele vai pagar.\n",
        "\n",
        "A prestação mensal não pode exceder 30% do salário ou então o empréstimo será negado."
      ],
      "metadata": {
        "id": "PZAw9Bn0qNzE"
      }
    },
    {
      "cell_type": "code",
      "execution_count": 7,
      "metadata": {
        "colab": {
          "base_uri": "https://localhost:8080/"
        },
        "id": "vnSmYgfcpvdO",
        "outputId": "4930d709-23df-4189-b190-2b87f7516187"
      },
      "outputs": [
        {
          "output_type": "stream",
          "name": "stdout",
          "text": [
            "Valor da casa: R$ 80000\n",
            "Salário do comprador: R$ 5000\n",
            "Quantos anos de financiamento? 10\n",
            "\n",
            "Para pagar um casa de R$ 80000.00 em 10 anos a prestação será de R$ 666.67.\n",
            "\n",
            "Empréstimo pode ser concedido!\n"
          ]
        }
      ],
      "source": [
        "casa = float(input('Valor da casa: R$ '))\n",
        "salario = float(input('Salário do comprador: R$ '))\n",
        "anos = int(input('Quantos anos de financiamento? '))\n",
        "prestacao = (casa/(anos * 12))\n",
        "print(f'\\nPara pagar um casa de R$ {casa:.2f} em {anos} anos a prestação será de R$ {prestacao:.2f}.')\n",
        "if(prestacao < (salario * 0.30)):\n",
        "  print('\\nEmpréstimo pode ser concedido!')\n",
        "else:\n",
        "  print('\\nEmpréstimo não pode ser concedido!')\n"
      ]
    }
  ]
}