{
  "nbformat": 4,
  "nbformat_minor": 0,
  "metadata": {
    "colab": {
      "provenance": []
    },
    "kernelspec": {
      "name": "python3",
      "display_name": "Python 3"
    },
    "language_info": {
      "name": "python"
    }
  },
  "cells": [
    {
      "cell_type": "markdown",
      "source": [
        "**Desafio 12** - Faça um algoritmo que leia o preço de um produto e mostre seu novo preço, com 5% de desconto."
      ],
      "metadata": {
        "id": "BX1LbAKEl4bg"
      }
    },
    {
      "cell_type": "code",
      "execution_count": 4,
      "metadata": {
        "colab": {
          "base_uri": "https://localhost:8080/"
        },
        "id": "4Fkw9Pphlqrz",
        "outputId": "fec09968-2a7d-4a58-d8ba-d9e638ab3959"
      },
      "outputs": [
        {
          "output_type": "stream",
          "name": "stdout",
          "text": [
            "Informe o preço do produto: R$ 100\n",
            "Você está com sorte!\n",
            "O novo preço do produto é R$ 95.00!\n",
            "Boas compras!\n"
          ]
        }
      ],
      "source": [
        "preco = float(input('Informe o preço do produto: R$ '))\n",
        "print(f'Você está com sorte!\\nO novo preço do produto é R$ {(preco*0.95):.2f}!\\nBoas compras!')\n"
      ]
    }
  ]
}