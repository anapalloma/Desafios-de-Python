{
  "nbformat": 4,
  "nbformat_minor": 0,
  "metadata": {
    "colab": {
      "provenance": []
    },
    "kernelspec": {
      "name": "python3",
      "display_name": "Python 3"
    },
    "language_info": {
      "name": "python"
    }
  },
  "cells": [
    {
      "cell_type": "markdown",
      "source": [
        "**Desafio 57** - Faça um programa que leia o sexo de uma pessoa, mas só aceite os valores 'M' e 'F'. Caso esteja errado, peça a digitação novamente até ter um valor correto."
      ],
      "metadata": {
        "id": "PBcGABeat4nt"
      }
    },
    {
      "cell_type": "code",
      "execution_count": 8,
      "metadata": {
        "colab": {
          "base_uri": "https://localhost:8080/"
        },
        "id": "-jR1-LVOt1BW",
        "outputId": "8187c84a-3868-4105-961e-8b7876eb40e8"
      },
      "outputs": [
        {
          "output_type": "stream",
          "name": "stdout",
          "text": [
            "Informe seu sexo [M/F]: a\n",
            "Dados inválidos. Por favor, informe seu sexo [M/F]: a\n",
            "Dados inválidos. Por favor, informe seu sexo [M/F]: v\n",
            "Dados inválidos. Por favor, informe seu sexo [M/F]: m\n",
            "\n",
            "Sexo M registrado com sucesso!\n"
          ]
        }
      ],
      "source": [
        "sexo = str(input('Informe seu sexo [M/F]: ')).strip().upper()[0]\n",
        "\n",
        "while sexo not in 'MF':\n",
        "  sexo =str(input('Dados inválidos. Por favor, informe seu sexo [M/F]: ')).strip().upper()[0]\n",
        "\n",
        "print(f'\\nSexo {sexo} registrado com sucesso!')"
      ]
    }
  ]
}