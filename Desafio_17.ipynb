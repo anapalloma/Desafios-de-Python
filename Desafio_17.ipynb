{
  "nbformat": 4,
  "nbformat_minor": 0,
  "metadata": {
    "colab": {
      "provenance": []
    },
    "kernelspec": {
      "name": "python3",
      "display_name": "Python 3"
    },
    "language_info": {
      "name": "python"
    }
  },
  "cells": [
    {
      "cell_type": "markdown",
      "source": [
        "**Desafio 17** - Faça um programa que leia o comprimento do cateto oposto e do cateto adjacente de um triângulo retângulo, calcule e mostre o comprimento da hipotenusa."
      ],
      "metadata": {
        "id": "yt3KReZgG7SY"
      }
    },
    {
      "cell_type": "code",
      "execution_count": 2,
      "metadata": {
        "colab": {
          "base_uri": "https://localhost:8080/"
        },
        "id": "qw_VCmy6G44q",
        "outputId": "a95cf766-9d01-41bf-eb67-1e03d2aa363a"
      },
      "outputs": [
        {
          "output_type": "stream",
          "name": "stdout",
          "text": [
            "Informe o comprimento do cateto oposto: 2\n",
            "Informe o comprimento do cateto adjacente: 4\n",
            "O comprimento da hipotenusa é 4.4721!\n"
          ]
        }
      ],
      "source": [
        "from math import hypot\n",
        "\n",
        "co = float(input('Informe o comprimento do cateto oposto: '))\n",
        "ca = float(input('Informe o comprimento do cateto adjacente: '))\n",
        "h = hypot(co, ca)\n",
        "print(f'O comprimento da hipotenusa é {h:.4f}!')\n"
      ]
    }
  ]
}