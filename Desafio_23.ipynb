{
  "nbformat": 4,
  "nbformat_minor": 0,
  "metadata": {
    "colab": {
      "provenance": []
    },
    "kernelspec": {
      "name": "python3",
      "display_name": "Python 3"
    },
    "language_info": {
      "name": "python"
    }
  },
  "cells": [
    {
      "cell_type": "markdown",
      "source": [
        "**Desafio 23** - Faça um programa que leia um número de 0 a 9999 e mostre na tela cada um dos dígitos separados."
      ],
      "metadata": {
        "id": "QGBtCzrhvZqA"
      }
    },
    {
      "cell_type": "code",
      "execution_count": 2,
      "metadata": {
        "colab": {
          "base_uri": "https://localhost:8080/"
        },
        "id": "B_IahUHZvINF",
        "outputId": "a8504a1b-75d0-4404-c2aa-7bbb958f765e"
      },
      "outputs": [
        {
          "output_type": "stream",
          "name": "stdout",
          "text": [
            "Digite um número: 158\n",
            "Unidade: 8\n",
            "Dezena: 5\n",
            "Centena: 1\n"
          ]
        }
      ],
      "source": [
        "num = str(input('Digite um número: '))\n",
        "if (len(num)) == 4:\n",
        "  print(f'Unidade: {num[3]}')\n",
        "  print(f'Dezena: {num[2]}')\n",
        "  print(f'Centena: {num[1]}')\n",
        "  print(f'Milhar: {num[0]}')\n",
        "elif (len(num)) == 3:\n",
        "  print(f'Unidade: {num[2]}')\n",
        "  print(f'Dezena: {num[1]}')\n",
        "  print(f'Centena: {num[0]}')\n",
        "elif (len(num)) == 2:\n",
        "  print(f'Unidade: {num[1]}')\n",
        "  print(f'Dezena: {num[0]}')\n",
        "elif (len(num)) == 1:\n",
        "  print(f'Unidade: {num[0]}')\n",
        "else:\n",
        "  print('Não foi possível concluir a operação, pois o número informado possui mais que 4 dígitos!')\n"
      ]
    }
  ]
}