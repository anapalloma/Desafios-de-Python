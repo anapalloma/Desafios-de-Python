{
  "nbformat": 4,
  "nbformat_minor": 0,
  "metadata": {
    "colab": {
      "provenance": []
    },
    "kernelspec": {
      "name": "python3",
      "display_name": "Python 3"
    },
    "language_info": {
      "name": "python"
    }
  },
  "cells": [
    {
      "cell_type": "markdown",
      "source": [
        "**Desafio 76** - Crie um programa que tenha uma tupla única com nomes de produtos e seus respectivos preços, na sequência. No final, mostre uma listagem de preços, organizando os dados em forma tabular."
      ],
      "metadata": {
        "id": "3N-a31yCPr37"
      }
    },
    {
      "cell_type": "code",
      "execution_count": 15,
      "metadata": {
        "colab": {
          "base_uri": "https://localhost:8080/"
        },
        "id": "iY1MpyOKPo-u",
        "outputId": "a8faddee-045a-4ebc-a3e8-fb22162447d3"
      },
      "outputs": [
        {
          "output_type": "stream",
          "name": "stdout",
          "text": [
            "----------------------------------------\n",
            "           LISTAGEM DE PREÇOS           \n",
            "----------------------------------------\n",
            "Lápis.........................R$   1.75\n",
            "Borracha......................R$   2.00\n",
            "Caderno.......................R$  15.90\n",
            "Estojo........................R$  25.00\n",
            "Transferidor..................R$   4.20\n",
            "Compasso......................R$   9.99\n",
            "Mochila.......................R$ 120.32\n",
            "Canetas.......................R$  22.30\n",
            "Livro.........................R$  34.90\n"
          ]
        }
      ],
      "source": [
        "listagem = ('Lápis', 1.75,\n",
        "            'Borracha', 2,\n",
        "            'Caderno', 15.90,\n",
        "            'Estojo', 25,\n",
        "            'Transferidor', 4.20,\n",
        "            'Compasso', 9.99,\n",
        "            'Mochila', 120.32,\n",
        "            'Canetas', 22.30,\n",
        "            'Livro', 34.90\n",
        "            )\n",
        "\n",
        "print('-'*40)\n",
        "print(f\"{'LISTAGEM DE PREÇOS':^40}\")\n",
        "print('-'*40)\n",
        "\n",
        "\n",
        "for i in range(0, len(listagem)):\n",
        "  if i % 2 == 0: # Se o item estiver em uma posição par\n",
        "    print(f'{(listagem[i]):.<30}', end = '') # Alinha à esquerda e preenche com pontos até completar 30 posições\n",
        "  if i % 2 == 1: #Se o item estiver em uma posição ímpar\n",
        "    print(f'R$ {(listagem[i]):>6.2f}') # Alinha a direita, formata o preco com 2 casas decimais, e, preenche com espaços vazios até completar 6 posições"
      ]
    }
  ]
}