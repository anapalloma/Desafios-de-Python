{
  "nbformat": 4,
  "nbformat_minor": 0,
  "metadata": {
    "colab": {
      "provenance": []
    },
    "kernelspec": {
      "name": "python3",
      "display_name": "Python 3"
    },
    "language_info": {
      "name": "python"
    }
  },
  "cells": [
    {
      "cell_type": "markdown",
      "source": [
        "**Desafio 82** - Crie um programa que vai ler vários números e colocar em uma lista. Depois disso, crie 2 listas extras que vão conter apenas os valores pares os valores ímpares digitados, respectivamente. Ao final, mostre o conteúdo das três listas geradas."
      ],
      "metadata": {
        "id": "v0jqkNqczxPB"
      }
    },
    {
      "cell_type": "code",
      "execution_count": 4,
      "metadata": {
        "colab": {
          "base_uri": "https://localhost:8080/"
        },
        "id": "jePVlCTJzuiO",
        "outputId": "7850f588-fb15-40b1-e72a-3b928776c12f"
      },
      "outputs": [
        {
          "output_type": "stream",
          "name": "stdout",
          "text": [
            "Digite um número: 5\n",
            "Quer continuar? [S/N] jjjj\n",
            "Quer continuar? [S/N] s\n",
            "Digite um número: 4\n",
            "Quer continuar? [S/N] s\n",
            "Digite um número: 2\n",
            "Quer continuar? [S/N] s\n",
            "Digite um número: 3\n",
            "Quer continuar? [S/N] s\n",
            "Digite um número: 9\n",
            "Quer continuar? [S/N] s\n",
            "Digite um número: 11\n",
            "Quer continuar? [S/N] n\n",
            "\n",
            "A lista completa é [5, 4, 2, 3, 9, 11].\n",
            "A lista de pares é [4, 2].\n",
            "A lista de ímpares é [5, 3, 9, 11]\n"
          ]
        }
      ],
      "source": [
        "lista = []\n",
        "par = []\n",
        "impar = []\n",
        "\n",
        "while True:\n",
        "  num = int(input('Digite um número: '))\n",
        "  lista.append(num)\n",
        "  opcao = ' '\n",
        "  while opcao not in 'SN':\n",
        "    opcao = str(input('Quer continuar? [S/N] ')).strip().upper()[0]\n",
        "  if opcao in 'N':\n",
        "    break\n",
        "\n",
        "for i in range(0, len(lista)):\n",
        "  if lista[i] % 2 == 0:\n",
        "    par.append(lista[i])\n",
        "  else:\n",
        "    impar.append(lista[i])\n",
        "\n",
        "print(f'\\nA lista completa é {lista}.')\n",
        "print(f'A lista de pares é {par}.')\n",
        "print(f'A lista de ímpares é {impar}')\n"
      ]
    }
  ]
}