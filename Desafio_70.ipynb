{
  "nbformat": 4,
  "nbformat_minor": 0,
  "metadata": {
    "colab": {
      "provenance": []
    },
    "kernelspec": {
      "name": "python3",
      "display_name": "Python 3"
    },
    "language_info": {
      "name": "python"
    }
  },
  "cells": [
    {
      "cell_type": "markdown",
      "source": [
        "**Desafio 70** - Crie um programa que leia o nome e o preço de de vários produtos. O programa deverá perguntar se o usuário vai continuar. No final, mostre:\n",
        "\n",
        "A) Qual é o total gasto na compra.\n",
        "B) Quantos produtos custam mais de R$ 1000.\n",
        "C) Qual é o nome do produto mais barato."
      ],
      "metadata": {
        "id": "j3pRbZ_CYLOU"
      }
    },
    {
      "cell_type": "code",
      "execution_count": 12,
      "metadata": {
        "colab": {
          "base_uri": "https://localhost:8080/"
        },
        "id": "wfX7T3nZYIpI",
        "outputId": "528d7af1-e69a-4d85-9c9b-87c2a5cbe289"
      },
      "outputs": [
        {
          "output_type": "stream",
          "name": "stdout",
          "text": [
            "----------------------------------------\n",
            "           LOJA SUPER BARATÃO           \n",
            "----------------------------------------\n",
            "Nome do Produto: Lapiseira\n",
            "Preço: 6\n",
            "Quer continuar? [S/N] s\n",
            "Nome do Produto: Caderno\n",
            "Preço: 25\n",
            "Quer continuar? [S/N] s\n",
            "Nome do Produto: Computador\n",
            "Preço: 12000\n",
            "Quer continuar? [S/N] s\n",
            "Nome do Produto: Impressora\n",
            "Preço: 750\n",
            "Quer continuar? [S/N] n\n",
            "----------- FIM DO PROGRAMA ------------\n",
            "O total da compra foi R$ 12781.00\n",
            "Temos 1 produtos custando mais de R$ 1.000,00\n",
            "O produto mais barato foi Lapiseira que custa R$ 6.00\n"
          ]
        }
      ],
      "source": [
        "print('-'*40)\n",
        "print(f\"{'LOJA SUPER BARATÃO':^40}\")\n",
        "print('-'*40)\n",
        "\n",
        "count = total = caros = custa = 0\n",
        "nome = ''\n",
        "\n",
        "precos = []\n",
        "\n",
        "while True:\n",
        "  produto = str(input('Nome do Produto: ')).strip()\n",
        "  preco = float(input('Preço: '))\n",
        "  total += preco\n",
        "  precos.append(preco)\n",
        "  if preco > 1000:\n",
        "    caros += 1\n",
        "  count += 1\n",
        "  if (count == 1) or (preco < min(precos)):\n",
        "    nome = produto\n",
        "    custa = preco\n",
        "  opcao = ' '\n",
        "  while opcao not in 'SN':\n",
        "    opcao = str(input('Quer continuar? [S/N] ')).strip().upper()[0]\n",
        "  if opcao in 'N':\n",
        "    break\n",
        "print(f\"{' FIM DO PROGRAMA ':-^40}\")\n",
        "\n",
        "print(f'O total da compra foi R$ {total:.2f}')\n",
        "print(f'Temos {caros} produtos custando mais de R$ 1.000,00')\n",
        "print(f'O produto mais barato foi {nome} que custa R$ {custa:.2f}')\n"
      ]
    }
  ]
}