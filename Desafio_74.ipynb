{
  "nbformat": 4,
  "nbformat_minor": 0,
  "metadata": {
    "colab": {
      "provenance": []
    },
    "kernelspec": {
      "name": "python3",
      "display_name": "Python 3"
    },
    "language_info": {
      "name": "python"
    }
  },
  "cells": [
    {
      "cell_type": "markdown",
      "source": [
        "**Desafio 74** - Crie um programa que vai gerar 5 números aleatórios e colocar em uma tupla. Depois disso, mostre a listagem de números gerados e também indique o menor e o maior valor que estão na tupla."
      ],
      "metadata": {
        "id": "9v7npL9db-It"
      }
    },
    {
      "cell_type": "code",
      "execution_count": 15,
      "metadata": {
        "colab": {
          "base_uri": "https://localhost:8080/"
        },
        "id": "4Z1HcVGLb7bK",
        "outputId": "cb91cbfb-562c-48f5-cfd4-67318dff92aa"
      },
      "outputs": [
        {
          "output_type": "stream",
          "name": "stdout",
          "text": [
            "Os valores sorteados foram: (3, 10, 5, 9, 8) \n",
            "O maior valor sorteado foi 10\n",
            "O menor valor sorteado foi 3\n"
          ]
        }
      ],
      "source": [
        "from random import randint\n",
        "\n",
        "numeros = (randint(1,10), randint(1,10), randint(1,10), randint(1,10), randint(1,10),)\n",
        "\n",
        "print(f'Os valores sorteados foram: {numeros} ')\n",
        "print(f'O maior valor sorteado foi {max(numeros)}')\n",
        "print(f'O menor valor sorteado foi {min(numeros)}')\n"
      ]
    }
  ]
}